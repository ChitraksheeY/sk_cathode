{
 "cells": [
  {
   "cell_type": "markdown",
   "metadata": {},
   "source": [
    "# LaCATHODE Walkthrough\n",
    "\n",
    "Just like the CATHODE walkthtough, this is a simple conceptual guide through how the [LaCATHODE method](https://journals.aps.org/prd/abstract/10.1103/PhysRevD.107.114012) for anomaly detection works. This demo assumes that `demos/cathode_walkthrough.ipynb` is understood. The notebook is oversimplified such that it does not make use of all optimization measures implemented in the main paper. It rather shows the core concept while hiding the technical implementation details behind a scikit-learn style API.\n",
    "\n",
    "Our main concern in `demos/cathode_walkthrough.ipynb` was to get high sensitivity for a new physics signal without actually using the signal-vs-background truth labels in the training. We measured that sensitivity via SIC curves, which do use that truth information. In a real experiment, one would need to extract the signal via some background estimation method. One way, that goes well with weak supervision, is a bump hunt: we select the most anomalous events, then fit a background shape to the resonant feature in the sidebands and compare this estimated background within the signal region to the measured data to see if there is an excess.\n",
    "\n",
    "Such a bump hunt background estimation works best if the background shape is smooth, even after applying our anomaly selection. If our method sculpts artificial bumps into the signal region, we will have to face additional obstacles, such as finding a more complicated background function and/or modeling the systematic uncertainties from this sculpting, which in turn reduces our signal sensitivity. In this demo, we look at how correlated input features can lead to sculpting in CATHODE and how the LaCATHODE modification can help to avoid this."
   ]
  },
  {
   "cell_type": "code",
   "execution_count": null,
   "metadata": {},
   "outputs": [],
   "source": [
    "import numpy as np\n",
    "import matplotlib.pyplot as plt\n",
    "import subprocess\n",
    "import sys\n",
    "\n",
    "from os.path import exists, join, dirname, realpath\n",
    "from sklearn.metrics import roc_curve\n",
    "from sklearn.neighbors import KernelDensity\n",
    "from sklearn.pipeline import make_pipeline\n",
    "from sklearn.preprocessing import StandardScaler\n",
    "from sklearn.utils import shuffle\n",
    "\n",
    "# adding parent directory to path\n",
    "parent_dir = dirname(realpath(globals()[\"_dh\"][0]))\n",
    "sys.path.append(parent_dir)\n",
    "\n",
    "from sk_cathode.generative_models.conditional_normalizing_flow_torch import ConditionalNormalizingFlow\n",
    "from sk_cathode.classifier_models.neural_network_classifier import NeuralNetworkClassifier\n",
    "from sk_cathode.utils.preprocessing import LogitScaler"
   ]
  },
  {
   "cell_type": "code",
   "execution_count": null,
   "metadata": {},
   "outputs": [],
   "source": [
    "# :sunglasses:\n",
    "plt.style.use('dark_background')"
   ]
  },
  {
   "cell_type": "markdown",
   "metadata": {},
   "source": [
    "Again, we use input data preprocessed via another script `demos/utils/data_preparation.py`. However, this time we add another feature, which is the angular distange between the two leading jets $\\Delta R_{jj}$. Thus, it downloads the LHCO R\\&D dataset and applies the preprocessing to extract the conditional feature $m=m_{jj}$ and **five** auxiliary features $x=(m_{j1}, \\Delta m_{jj}, \\tau_{21,j1}, \\tau_{21,j2}, \\Delta R_{jj})$. Moreover, it divides the $m$ spectrum into signal region (SR) and sideband (SB), and splits the data into training/validation/test sets."
   ]
  },
  {
   "cell_type": "code",
   "execution_count": null,
   "metadata": {},
   "outputs": [],
   "source": [
    "data_path = \"./input_data_deltaR/\""
   ]
  },
  {
   "cell_type": "code",
   "execution_count": null,
   "metadata": {},
   "outputs": [],
   "source": [
    "# data preparation (download and high-level preprocessing)\n",
    "if not exists(join(data_path, \"innerdata_test.npy\")):\n",
    "    process = subprocess.run(f\"{sys.executable} {join(parent_dir, 'demos', 'utils', 'data_preparation.py')} --outdir {data_path} --add_deltaR\", shell=True, check=True)\n"
   ]
  },
  {
   "cell_type": "code",
   "execution_count": null,
   "metadata": {},
   "outputs": [],
   "source": [
    "# data loading\n",
    "outerdata_train = np.load(join(data_path, \"outerdata_train.npy\"))\n",
    "outerdata_val = np.load(join(data_path, \"outerdata_val.npy\"))\n",
    "outerdata_test = np.load(join(data_path, \"outerdata_test.npy\"))\n",
    "innerdata_train = np.load(join(data_path, \"innerdata_train.npy\"))\n",
    "innerdata_val = np.load(join(data_path, \"innerdata_val.npy\"))\n",
    "innerdata_test = np.load(join(data_path, \"innerdata_test.npy\"))"
   ]
  },
  {
   "cell_type": "markdown",
   "metadata": {},
   "source": [
    "We first start by training CATHODE as before. I.e. we train a conditonal normalizing flow on SB data, sample background-like SR events and train a classifier to distinguish them from \"real\" SR data."
   ]
  },
  {
   "cell_type": "code",
   "execution_count": null,
   "metadata": {},
   "outputs": [],
   "source": [
    "# either train new flow model from scratch\n",
    "\n",
    "# We streamline the preprocessing with an sklearn pipeline.\n",
    "# Ideally we would wrap the whole model, including the flow. But out of the box,\n",
    "# the pipeline class does not wrap sample() and predict_log_proba() :(\n",
    "outer_scaler = make_pipeline(LogitScaler(), StandardScaler())\n",
    "\n",
    "m_train = outerdata_train[:, 0:1]\n",
    "X_train = outer_scaler.fit_transform(outerdata_train[:, 1:-1])\n",
    "m_val = outerdata_val[:, 0:1]\n",
    "X_val = outer_scaler.transform(outerdata_val[:, 1:-1])\n",
    "\n",
    "flow_savedir = \"./trained_flows_deltaR/\"\n",
    "# Let's protect ourselves from accidentally overwriting a trained model.\n",
    "if not exists(join(flow_savedir, \"DE_models\")):\n",
    "    flow_model = ConditionalNormalizingFlow(save_path=flow_savedir,\n",
    "                                            num_inputs=outerdata_train[:, 1:-1].shape[1],\n",
    "                                            early_stopping=True, epochs=None,\n",
    "                                            verbose=True)\n",
    "    flow_model.fit(X_train, m_train, X_val, m_val)\n",
    "else:\n",
    "    print(f\"The model exists already in {flow_savedir}. Remove first if you want to overwrite.\")"
   ]
  },
  {
   "cell_type": "code",
   "execution_count": null,
   "metadata": {},
   "outputs": [],
   "source": [
    "# or loading existing flow model\n",
    "\n",
    "outer_scaler = make_pipeline(LogitScaler(), StandardScaler())\n",
    "outer_scaler.fit(outerdata_train[:, 1:-1])\n",
    "\n",
    "flow_savedir = \"./trained_flows_deltaR/\"\n",
    "flow_model = ConditionalNormalizingFlow(save_path=flow_savedir,\n",
    "                                        num_inputs=outerdata_train[:, 1:-1].shape[1],\n",
    "                                        load=True)"
   ]
  },
  {
   "cell_type": "code",
   "execution_count": null,
   "metadata": {},
   "outputs": [],
   "source": [
    "# fitting a KDE for the mass distribution based on the inner training set\n",
    "\n",
    "# we also perform a logit first to stretch out the hard boundaries\n",
    "m_scaler = LogitScaler(epsilon=1e-8)\n",
    "m_train = m_scaler.fit_transform(innerdata_train[:, 0:1])\n",
    "\n",
    "kde_model = KernelDensity(bandwidth=0.01, kernel='gaussian')\n",
    "kde_model.fit(m_train)\n",
    "\n",
    "# now let's sample 4x the number of training data\n",
    "m_samples = kde_model.sample(4*len(m_train)).astype(np.float32)\n",
    "m_samples = m_scaler.inverse_transform(m_samples)\n",
    "\n",
    "# drawing samples from the flow model with the KDE samples as conditional\n",
    "X_samples = flow_model.sample(n_samples=len(m_samples), m=m_samples)\n",
    "\n",
    "X_samples = outer_scaler.inverse_transform(X_samples)\n",
    "\n",
    "# assigning \"signal\" label 0 to samples\n",
    "samples = np.hstack([m_samples, X_samples, np.zeros((m_samples.shape[0], 1))])"
   ]
  },
  {
   "cell_type": "code",
   "execution_count": null,
   "metadata": {},
   "outputs": [],
   "source": [
    "# comparing samples to inner background (idealized sanity check)\n",
    "\n",
    "for i in range(innerdata_test[:, :-1].shape[1]):\n",
    "    _, binning, _ = plt.hist(innerdata_test[innerdata_test[:, -1] == 0, i],\n",
    "                             bins=100, label=\"data background\",\n",
    "                             density=True, histtype=\"step\")\n",
    "    _ = plt.hist(samples[:, i],\n",
    "                 bins=binning, label=\"sampled background\",\n",
    "                 density=True, histtype=\"step\")\n",
    "    plt.legend()\n",
    "    plt.ylim(0, plt.gca().get_ylim()[1] * 1.2)\n",
    "    plt.xlabel(\"feature {}\".format(i))\n",
    "    plt.ylabel(\"counts (norm.)\")\n",
    "    plt.show()"
   ]
  },
  {
   "cell_type": "code",
   "execution_count": null,
   "metadata": {},
   "outputs": [],
   "source": [
    "# assigning \"signal\" label 1 to data\n",
    "clsf_train_data = innerdata_train.copy()\n",
    "clsf_train_data[:, -1] = np.ones_like(clsf_train_data[:, -1])\n",
    "\n",
    "clsf_val_data = innerdata_val.copy()\n",
    "clsf_val_data[:, -1] = np.ones_like(clsf_val_data[:, -1])\n",
    "\n",
    "# then mixing data and samples into train/val sets together proportionally\n",
    "n_train = len(clsf_train_data)\n",
    "n_val = len(clsf_val_data)\n",
    "n_samples_train = int(n_train / (n_train + n_val) * len(samples))\n",
    "samples_train = samples[:n_samples_train]\n",
    "samples_val = samples[n_samples_train:]\n",
    "\n",
    "clsf_train_set = np.vstack([clsf_train_data, samples_train])\n",
    "clsf_val_set = np.vstack([clsf_val_data, samples_val])\n",
    "clsf_train_set = shuffle(clsf_train_set, random_state=42)\n",
    "clsf_val_set = shuffle(clsf_val_set, random_state=42)"
   ]
  },
  {
   "cell_type": "code",
   "execution_count": null,
   "metadata": {},
   "outputs": [],
   "source": [
    "# either train new NN classifier to distinguish between real inner data and samples\n",
    "\n",
    "# derive scaler parameters on data only, so it stays the same even if we resample\n",
    "inner_scaler = StandardScaler()\n",
    "inner_scaler.fit(clsf_train_data[:, 1:-1])\n",
    "\n",
    "X_train = inner_scaler.transform(clsf_train_set[:, 1:-1])\n",
    "y_train = clsf_train_set[:, -1]\n",
    "X_val = inner_scaler.transform(clsf_val_set[:, 1:-1])\n",
    "y_val = clsf_val_set[:, -1]\n",
    "\n",
    "classifier_savedir = \"./trained_classifiers_deltaR_CATHODE/\"\n",
    "# Let's protect ourselves from accidentally overwriting a trained model.\n",
    "if not exists(join(classifier_savedir, \"CLSF_models\")):\n",
    "    classifier_model = NeuralNetworkClassifier(save_path=classifier_savedir,\n",
    "                                               n_inputs=X_train.shape[1],\n",
    "                                               early_stopping=True, epochs=None,\n",
    "                                               verbose=True)\n",
    "    classifier_model.fit(X_train, y_train, X_val, y_val)\n",
    "else:\n",
    "    print(f\"The model exists already in {classifier_savedir}. Remove first if you want to overwrite.\")"
   ]
  },
  {
   "cell_type": "code",
   "execution_count": null,
   "metadata": {},
   "outputs": [],
   "source": [
    "# or alternatively load existing classifer model\n",
    "\n",
    "inner_scaler = StandardScaler()\n",
    "inner_scaler.fit(clsf_train_data[:, 1:-1])\n",
    "\n",
    "classifier_savedir = \"./trained_classifiers_deltaR_CATHODE/\"\n",
    "classifier_model = NeuralNetworkClassifier(save_path=classifier_savedir,\n",
    "                                           n_inputs=clsf_train_data[:, 1:-1].shape[1],\n",
    "                                           load=True)"
   ]
  },
  {
   "cell_type": "code",
   "execution_count": null,
   "metadata": {},
   "outputs": [],
   "source": [
    "# now let's evaluate the signal extraction performance\n",
    "\n",
    "X_test = inner_scaler.transform(innerdata_test[:, 1:-1])\n",
    "y_test = innerdata_test[:, -1]\n",
    "\n",
    "preds_test = classifier_model.predict(X_test)\n",
    "\n",
    "with np.errstate(divide='ignore', invalid='ignore'):\n",
    "    fpr, tpr, _ = roc_curve(y_test, preds_test)\n",
    "    sic = tpr / np.sqrt(fpr)\n",
    "\n",
    "    random_tpr = np.linspace(0, 1, 300)\n",
    "    random_sic = random_tpr / np.sqrt(random_tpr)\n",
    "\n",
    "plt.plot(tpr, sic, label=\"CATHODE\")\n",
    "plt.plot(random_tpr, random_sic, \"w:\", label=\"random\")\n",
    "plt.xlabel(\"True Positive Rate\")\n",
    "plt.ylabel(\"Significance Improvement\")\n",
    "plt.legend(loc=\"upper right\")\n",
    "plt.show()"
   ]
  },
  {
   "cell_type": "markdown",
   "metadata": {},
   "source": [
    "With an extra auxiliary feature added to CATHODE we still seem to be doing well. There is a tendency towards slightly lower SIC compared to without, because our generative model has to learn an extra dimension and the classifier is exposed to more noise, in this case where the extra feature does not really help distinguishing this particular signal from background.\n",
    "\n",
    "But our main focus now is how the background would look like once we apply our anomaly selection. To check this, we evaluate the CATHODE classifier on the full test background (both signal region and sideband) and select the most anomalous 1% of events."
   ]
  },
  {
   "cell_type": "code",
   "execution_count": null,
   "metadata": {},
   "outputs": [],
   "source": [
    "# let's look at the predictions on the full SR+SB test background\n",
    "# (also idealized as IRL we cannot isolate from the signal)\n",
    "fulldata_test = np.vstack([innerdata_test, outerdata_test])\n",
    "fullbkg_test = fulldata_test[fulldata_test[:, -1] == 0]\n",
    "fullpreds_test = classifier_model.predict(inner_scaler.transform(fullbkg_test[:, 1:-1])).flatten()\n",
    "\n",
    "# let's select the 1% most anomalous events\n",
    "threshold = np.percentile(fullpreds_test, 99)\n",
    "anomdata_test = fullbkg_test[fullpreds_test > threshold]\n",
    "\n",
    "# and plot the dijet mass distribution before/after the corresponding cut\n",
    "_, binning, _ = plt.hist(fullbkg_test[:, 0], bins=100, label=\"full data\", histtype=\"step\")\n",
    "_ = plt.hist(anomdata_test[:, 0], bins=binning, label=\"most anomalous data\", histtype=\"step\")\n",
    "plt.axvline(innerdata_test[:, 0].min(), color=plt.rcParams[\"text.color\"], linestyle=\":\", label=\"SR\")\n",
    "plt.axvline(innerdata_test[:, 0].max(), color=plt.rcParams[\"text.color\"], linestyle=\":\")\n",
    "plt.xlabel(\"conditional feature\")\n",
    "plt.ylabel(\"counts\")\n",
    "plt.yscale(\"log\")\n",
    "plt.legend(loc=\"upper right\")\n",
    "plt.show()"
   ]
  },
  {
   "cell_type": "markdown",
   "metadata": {},
   "source": [
    "The result here can look quite different from run to run (which is an issue on its own), but in most cases one sees a visible change of background shape after selecting on the anomaly score. Even worse, there tend to be bumps appearing randomly, even in the signal region, which is a real headache for a background estimation such as the bump hunt, which relies on fitting a smooth background function to extract a signal bump on top.\n",
    "\n",
    "One can check and see that the behavior is not as dramatic on the original feature set (in `demos/cathode_walkthrough.ipynb`) without $\\Delta R_{jj}$. So what is special about this feature? One can get an idea by plotting its distribution separately in SR and SB."
   ]
  },
  {
   "cell_type": "code",
   "execution_count": null,
   "metadata": {},
   "outputs": [],
   "source": [
    "lowerdata_train = outerdata_train[outerdata_train[:, 0] < innerdata_train[:, 0].min()]\n",
    "upperdata_train = outerdata_train[outerdata_train[:, 0] > innerdata_train[:, 0].max()]\n",
    "\n",
    "for i in range(innerdata_train[:, :-1].shape[1]):\n",
    "    # computing the binning on full outer data\n",
    "    _, binning = np.histogram(outerdata_train[:, i], bins=100)\n",
    "    _ = plt.hist(innerdata_train[innerdata_train[:, -1] == 0, i],\n",
    "                 bins=binning, label=\"SR background\",\n",
    "                 density=True if i >0 else False, histtype=\"step\")\n",
    "    _ = plt.hist(lowerdata_train[lowerdata_train[:, -1] == 0, i],\n",
    "                 bins=binning, label=\"lower SB background\",\n",
    "                 density=True if i >0 else False, histtype=\"step\")\n",
    "    _ = plt.hist(upperdata_train[upperdata_train[:, -1] == 0, i],\n",
    "                 bins=binning, label=\"upper SB background\",\n",
    "                 density=True if i >0 else False, histtype=\"step\")\n",
    "    plt.legend()\n",
    "    plt.ylim(0, plt.gca().get_ylim()[1] * 1.2)\n",
    "    plt.xlabel(\"feature {}\".format(i))\n",
    "    plt.ylabel(\"counts (norm.)\" if i > 0 else \"counts\")\n",
    "    plt.show()"
   ]
  },
  {
   "cell_type": "markdown",
   "metadata": {},
   "source": [
    "So while the first four auxiliary features (feature 1-4) seem quite similar in SR and SB, there is a siginificant difference between the three regions in $\\Delta R_{jj}$ (feature 5). So there are clearly strong correlations between the input space of our neural network classifier and the resonant feature. Thus, the classifier will learn this dependence as well and our anomaly score inherits this correlation. Cutting on this anomaly score thus translates to some funny cut on the resonant feature. Looking at the plot above, we see that we even extrapolate the classifier into regions (SB) outside its training space (SR). Neural networks are not known to handle this type of extrapolation well.\n",
    "\n",
    "We could either try to remove this correlation a-posteriori, or we could remove the correlation from the input features *before* the classifier training. The latter is something that we actually aready have lying around just from CATHODE. We trained a conditional normalizing flow, which is a function $f(x, m)$ that maps data space $x$ to the latent space $z$, which follows a standard normal distribution, and it does so continuously for every $m$. Thus, the $z$ and $m$ will be effectively decorrelated.\n",
    "\n",
    "This is what we try to make use of in latent CATHODE (LaCATHODE). Before we train the CATHODE classifier, we move all the SR training data to the latent space using the learned flow model. The background should just be distributed like a standard gaussian, so the sampling becomes straightforward. Once we want to infer the anomaly score of our test data, we also first move it to the same latent space. SR and SB should be identically distributed there.\n",
    "\n",
    "Let's do this in practice below:"
   ]
  },
  {
   "cell_type": "code",
   "execution_count": null,
   "metadata": {},
   "outputs": [],
   "source": [
    "# if necessary loading existing flow model again\n",
    "\n",
    "outer_scaler = make_pipeline(LogitScaler(), StandardScaler())\n",
    "outer_scaler.fit(outerdata_train[:, 1:-1])\n",
    "\n",
    "flow_savedir = \"./trained_flows_deltaR/\"\n",
    "flow_model = ConditionalNormalizingFlow(save_path=flow_savedir,\n",
    "                                        num_inputs=outerdata_train[:, 1:-1].shape[1],\n",
    "                                        load=True)"
   ]
  },
  {
   "cell_type": "code",
   "execution_count": null,
   "metadata": {},
   "outputs": [],
   "source": [
    "# move all the inner training and validation data to the latent space of the flow\n",
    "\n",
    "latent_train_data = flow_model.transform(outer_scaler.transform(innerdata_train[:, 1:-1]),\n",
    "                                         m=innerdata_train[:, 0:1])\n",
    "latent_val_data = flow_model.transform(outer_scaler.transform(innerdata_val[:, 1:-1]),\n",
    "                                       m=innerdata_val[:, 0:1])\n",
    "\n",
    "# we know how perfect background samples should like in this space: a standard normal\n",
    "latent_samples = np.random.randn(4*latent_train_data.shape[0], latent_train_data.shape[1])"
   ]
  },
  {
   "cell_type": "code",
   "execution_count": null,
   "metadata": {},
   "outputs": [],
   "source": [
    "for i in range(latent_train_data.shape[1]):\n",
    "    _, binning, _ = plt.hist(latent_samples[:, i],\n",
    "                             bins=100, label=\"latent sample background\",\n",
    "                             density=True, histtype=\"step\")\n",
    "    _ = plt.hist(latent_train_data[innerdata_train[:, -1] == 0, i],\n",
    "                 bins=binning, label=\"latent data background\",\n",
    "                 density=True, histtype=\"step\")\n",
    "    plt.legend()\n",
    "    plt.ylim(0, plt.gca().get_ylim()[1] * 1.2)\n",
    "    plt.xlabel(\"latent feature {}\".format(i))\n",
    "    plt.ylabel(\"counts (norm.)\")\n",
    "    plt.show()"
   ]
  },
  {
   "cell_type": "code",
   "execution_count": null,
   "metadata": {},
   "outputs": [],
   "source": [
    "# assigning \"signal\" label 1 to data and 0 to samples\n",
    "clsf_latent_train_data = np.hstack([latent_train_data,\n",
    "                                    np.ones((latent_train_data.shape[0], 1))])\n",
    "clsf_latent_val_data = np.hstack([latent_val_data,\n",
    "                                  np.ones((latent_val_data.shape[0], 1))])\n",
    "clsf_latent_samples = np.hstack([latent_samples,\n",
    "                                 np.zeros((latent_samples.shape[0], 1))])\n",
    "\n",
    "# then mixing data and samples into train/val sets together proportionally\n",
    "n_train = len(clsf_latent_train_data)\n",
    "n_val = len(clsf_latent_val_data)\n",
    "n_samples_train = int(n_train / (n_train + n_val) * len(clsf_latent_samples))\n",
    "clsf_latent_samples_train = clsf_latent_samples[:n_samples_train]\n",
    "clsf_latent_samples_val = clsf_latent_samples[n_samples_train:]\n",
    "\n",
    "clsf_latent_train_set = np.vstack([clsf_latent_train_data, clsf_latent_samples_train])\n",
    "clsf_latent_val_set = np.vstack([clsf_latent_val_data, clsf_latent_samples_val])\n",
    "clsf_latent_train_set = shuffle(clsf_latent_train_set, random_state=42)\n",
    "clsf_latent_val_set = shuffle(clsf_latent_val_set, random_state=42)"
   ]
  },
  {
   "cell_type": "code",
   "execution_count": null,
   "metadata": {},
   "outputs": [],
   "source": [
    "# either train new NN classifier to distinguish between real inner data and samples\n",
    "\n",
    "# derive scaler parameters on data only, so it stays the same even if we resample\n",
    "latent_scaler = StandardScaler()\n",
    "latent_scaler.fit(clsf_latent_train_data[:, :-1])\n",
    "\n",
    "X_train = latent_scaler.transform(clsf_latent_train_set[:, :-1])\n",
    "y_train = clsf_latent_train_set[:, -1]\n",
    "X_val = latent_scaler.transform(clsf_latent_val_set[:, :-1])\n",
    "y_val = clsf_latent_val_set[:, -1]\n",
    "\n",
    "latent_classifier_savedir = \"./trained_classifiers_deltaR_LaCATHODE/\"\n",
    "# Let's protect ourselves from accidentally overwriting a trained model.\n",
    "if not exists(join(latent_classifier_savedir, \"CLSF_models\")):\n",
    "    latent_classifier_model = NeuralNetworkClassifier(save_path=latent_classifier_savedir,\n",
    "                                                      n_inputs=X_train.shape[1],\n",
    "                                                      early_stopping=True, epochs=None,\n",
    "                                                      verbose=True)\n",
    "    latent_classifier_model.fit(X_train, y_train, X_val, y_val)\n",
    "else:\n",
    "    print(f\"The model exists already in {latent_classifier_savedir}. Remove first if you want to overwrite.\")"
   ]
  },
  {
   "cell_type": "code",
   "execution_count": null,
   "metadata": {},
   "outputs": [],
   "source": [
    "# or alternatively load existing classifer model\n",
    "\n",
    "latent_scaler = StandardScaler()\n",
    "latent_scaler.fit(clsf_latent_train_data[:, :-1])\n",
    "\n",
    "latent_classifier_savedir = \"./trained_classifiers_deltaR_LaCATHODE/\"\n",
    "latent_classifier_model = NeuralNetworkClassifier(save_path=latent_classifier_savedir,\n",
    "                                                  n_inputs=clsf_latent_train_data[:, :-1].shape[1],\n",
    "                                                  load=True)"
   ]
  },
  {
   "cell_type": "code",
   "execution_count": null,
   "metadata": {},
   "outputs": [],
   "source": [
    "# now let's again evaluate the signal extraction performance\n",
    "\n",
    "# this series of transformations is becoming a bit long now and could ideally be simplified by a pipeline\n",
    "X_test = latent_scaler.transform(flow_model.transform(outer_scaler.transform(innerdata_test[:, 1:-1]), m=innerdata_test[:, 0:1]))\n",
    "y_test = innerdata_test[:, -1]\n",
    "\n",
    "preds_test = latent_classifier_model.predict(X_test).flatten()\n",
    "\n",
    "# clean out potential NaNs\n",
    "preds_test_clean = preds_test[~np.isnan(preds_test)]\n",
    "y_test_clean = y_test[~np.isnan(preds_test)]\n",
    "\n",
    "with np.errstate(divide='ignore', invalid='ignore'):\n",
    "    fpr, tpr, _ = roc_curve(y_test_clean, preds_test_clean)\n",
    "    sic = tpr / np.sqrt(fpr)\n",
    "\n",
    "    random_tpr = np.linspace(0, 1, 300)\n",
    "    random_sic = random_tpr / np.sqrt(random_tpr)\n",
    "\n",
    "plt.plot(tpr, sic, label=\"LaCATHODE\")\n",
    "plt.plot(random_tpr, random_sic, \"w:\", label=\"random\")\n",
    "plt.xlabel(\"True Positive Rate\")\n",
    "plt.ylabel(\"Significance Improvement\")\n",
    "plt.legend(loc=\"upper right\")\n",
    "plt.show()"
   ]
  },
  {
   "cell_type": "markdown",
   "metadata": {},
   "source": [
    "The signal extraction performance in terms of SIC tends to be a bit lower for LaCATHODE than default CATHODE, but remains still very non-trivial for this type of signal. But remember that we would still need a background estimation procedure to extract the signal in a real experiment. For that let's see how smooth the background looks like after selecting on the anomaly score."
   ]
  },
  {
   "cell_type": "code",
   "execution_count": null,
   "metadata": {},
   "outputs": [],
   "source": [
    "# and plot again the dijet mass distribution before/after the corresponding cut\n",
    "\n",
    "# let's look at the predictions on the full SR+SB test data\n",
    "fulldata_test = np.vstack([innerdata_test, outerdata_test])\n",
    "fullbkg_test = fulldata_test[fulldata_test[:, -1] == 0]\n",
    "\n",
    "fullpreds_latent_test = latent_classifier_model.predict(latent_scaler.transform(flow_model.transform(outer_scaler.transform(fullbkg_test[:, 1:-1]), m=fullbkg_test[:, 0:1]))).flatten()\n",
    "\n",
    "# let's select the 1% most anomalous events\n",
    "threshold = np.percentile(fullpreds_latent_test[~np.isnan(fullpreds_latent_test)], 99)\n",
    "anomdata_latent_test = fullbkg_test[fullpreds_latent_test > threshold]\n",
    "\n",
    "# and plot the dijet mass distribution before/after the corresponding cut\n",
    "_, binning, _ = plt.hist(fullbkg_test[:, 0], bins=100, label=\"full data\", histtype=\"step\")\n",
    "_ = plt.hist(anomdata_latent_test[:, 0], bins=binning, label=\"most anomalous data\", histtype=\"step\")\n",
    "plt.axvline(innerdata_test[:, 0].min(), color=plt.rcParams[\"text.color\"], linestyle=\":\", label=\"SR\")\n",
    "plt.axvline(innerdata_test[:, 0].max(), color=plt.rcParams[\"text.color\"], linestyle=\":\")\n",
    "plt.xlabel(\"conditional feature\")\n",
    "plt.ylabel(\"counts\")\n",
    "plt.yscale(\"log\")\n",
    "plt.legend(loc=\"upper right\")\n",
    "plt.show()"
   ]
  },
  {
   "cell_type": "markdown",
   "metadata": {},
   "source": [
    "The plot above should usually look much better than with default CATHODE. As the normalizing flow removes the correlation between the training features and the resonant one in the latent space, we also do not expect the output of the classifier to depend on the resonant feature anymore and does not sculpt the background there. Fitting the above background from the sideband with a smooth function and comparing to the data in the signal region should thus be much easier."
   ]
  }
 ],
 "metadata": {
  "kernelspec": {
   "display_name": "CATHODEenv",
   "language": "python",
   "name": "python3"
  },
  "language_info": {
   "codemirror_mode": {
    "name": "ipython",
    "version": 3
   },
   "file_extension": ".py",
   "mimetype": "text/x-python",
   "name": "python",
   "nbconvert_exporter": "python",
   "pygments_lexer": "ipython3",
   "version": "3.9.7"
  },
  "orig_nbformat": 4
 },
 "nbformat": 4,
 "nbformat_minor": 2
}
