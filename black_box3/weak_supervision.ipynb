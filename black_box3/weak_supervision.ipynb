{
 "cells": [
  {
   "cell_type": "markdown",
   "metadata": {},
   "source": [
    "# Weak Supervision\n",
    "\n",
    "In this notebook, we will discuss the concept of weak supervision in the context of anomaly detection. It will define what is often referred to as an *idealized anomaly detector* and compare it to a fully supervised classifier. The end of the notebook also has some macros for plotting the performance of multiple retrainings in terms of median and 68% confidence intervals.\n",
    "\n",
    "The usual approach to find a powerful discriminant for distinguishing two classes of data (here signal and background) from each other, is to train a machine learning classifier (e.g. a neural network) to distinguish the classes from each other, based on some input features $x$. At each training iteration, we compare the output of the classifier $f(x)$ to the actual label $y$ (1 for signal, 0 for background) of the training data via the loss function (usually binary cross entropy) and optimize the weights of the classifier such that they match as well as possible. What the classifier learns then is to approximate the likelihood ratio $\\frac{p_{sig}}{p_{bkg}}$, which is the most powerful test statistic according to the Neyman Pearson Lemma. This *fully supervised classifier* relies on knowing a-priori which training data are signal and which are background during training.\n",
    "\n",
    "However, there might be cases where one does not have such truth labels in advance. A prominent case is anomaly detection where one searches for small hints of anomalous signal within an overwhelming background, in a model-agnostic way. Let's imagine the case that we only have our measured data, that consists of background and maybe some signal. In addition, we somehow got an extra sample of just background data. If that was the case, we could just train a classifier to distinguish these two classes (data=sig+bkg vs bkg). Our classifier would approach a likelihood ratio that is monotonically linked to the signal-vs-bkg one $\\frac{p_{(sig+bkg)}}{p_{bkg}} = \\frac{f_{sig} p_{sig} + (1- f_{sig}) p_{bkg}}{p_{bkg}} = f_{sig} \\frac{p_{sig}}{p_{bkg}} + (1 - f_{sig})$ where $f_{sig}$ is the (unknown) signal fraction in the data.\n",
    "\n",
    "The question is now where to get this magic background-only sample. One might have a very good Monte Carlo simulation, or one might instead generate it in-situ via some data-driven estimate. The latter is the approach that multiple weak supervision methods take, such as [CWoLa Hunting](https://arxiv.org/abs/1902.02634), [SALAD](https://arxiv.org/abs/2212.10579), [CATHODE](https://arxiv.org/abs/2109.00546), [CURTAINS](https://arxiv.org/abs/2203.09470), [FETA](https://arxiv.org/abs/2212.11285). For now, we just assume we already have such a large background-only sample and refer to this idealization as the *idealized anomaly detector* (IAD).\n",
    "\n",
    "Here, we first illustrate the fully supervised training and will then compare it to the IAD."
   ]
  },
  {
   "cell_type": "code",
   "execution_count": 49,
   "metadata": {},
   "outputs": [],
   "source": [
    "import numpy as np\n",
    "import matplotlib.pyplot as plt\n",
    "import subprocess\n",
    "import sys\n",
    "import os\n",
    "\n",
    "from os.path import exists, join, dirname, realpath\n",
    "from sklearn.metrics import roc_curve\n",
    "from sklearn.model_selection import train_test_split\n",
    "from sklearn.pipeline import make_pipeline\n",
    "from sklearn.preprocessing import StandardScaler\n",
    "from sklearn.utils import shuffle\n",
    "\n",
    "# adding parent directory to path\n",
    "parent_dir = dirname(realpath(globals()[\"_dh\"][0]))\n",
    "sys.path.append(parent_dir)\n",
    "\n",
    "from sk_cathode.classifier_models.neural_network_classifier import NeuralNetworkClassifier"
   ]
  },
  {
   "cell_type": "code",
   "execution_count": 50,
   "metadata": {},
   "outputs": [],
   "source": [
    "# :sunglasses:\n",
    "#plt.style.use('dark_background')"
   ]
  },
  {
   "cell_type": "markdown",
   "metadata": {},
   "source": [
    "The input data has the following features: $m_{RSD}$, HT, $\\tau_{1},\\tau_{2},\\tau_{3},\\tau_{4}$. Morevoer, the $m$ spectrum is divided into Lower sideband: 1500 ~ 2500 GeV, Signal region: 2500~4000 GeV, Upper sideband: > 4000 GeV\n"
   ]
  },
  {
   "cell_type": "code",
   "execution_count": 51,
   "metadata": {},
   "outputs": [],
   "source": [
    "data_path = \"../../data/black_box3/\""
   ]
  },
  {
   "cell_type": "markdown",
   "metadata": {},
   "source": [
    "The supervised classifier would realistically be trained on a good simulation of the two classes, where the labels are available. "
   ]
  },
  {
   "cell_type": "code",
   "execution_count": 52,
   "metadata": {},
   "outputs": [
    {
     "name": "stdout",
     "output_type": "stream",
     "text": [
      "Bkg shape:(996800, 7)\n",
      "sig1 shape:(1200, 7)\n",
      "sig2 shape:(2000, 7)\n"
     ]
    },
    {
     "data": {
      "text/plain": [
       "'\\n#combining and shuffling the datasets\\ndata = np.vstack([bkg_labeled,sig_labeled])\\ndata = shuffle(data, random_state=42)\\n\\nprint(f\"data shape:{data.shape}\")\\n'"
      ]
     },
     "execution_count": 52,
     "metadata": {},
     "output_type": "execute_result"
    }
   ],
   "source": [
    "#Loading data\n",
    "bkg = np.load(os.path.join(data_path, \"bkg.npy\"))  \n",
    "sig1 = np.load(os.path.join(data_path, \"sig1.npy\")) \n",
    "sig2 = np.load(os.path.join(data_path, \"sig2.npy\")) \n",
    "\n",
    "#sig = np.vstack([sig1,sig2])\n",
    "#sig = shuffle(sig, random_state=42)\n",
    "\n",
    "#creating labels\n",
    "label0 = np.zeros((bkg.shape[0], 1)) \n",
    "label_s1 = np.ones((sig1.shape[0], 1)) \n",
    "label_s2 = np.ones((sig2.shape[0], 1)) \n",
    "\n",
    "#Adding labels with features \n",
    "bkg_labeled = np.hstack((bkg, label0))\n",
    "sig1_labeled = np.hstack((sig1, label_s1))\n",
    "sig2_labeled = np.hstack((sig2, label_s2))\n",
    "\n",
    "print(f\"Bkg shape:{bkg_labeled.shape}\")\n",
    "#print(f\"The bkg events look like:\\n{bkg_labeled[:3]}\")\n",
    "print(f\"sig1 shape:{sig1_labeled.shape}\")\n",
    "print(f\"sig2 shape:{sig2_labeled.shape}\")\n",
    "\n",
    "'''\n",
    "#combining and shuffling the datasets\n",
    "data = np.vstack([bkg_labeled,sig_labeled])\n",
    "data = shuffle(data, random_state=42)\n",
    "\n",
    "print(f\"data shape:{data.shape}\")\n",
    "'''"
   ]
  },
  {
   "cell_type": "code",
   "execution_count": 53,
   "metadata": {},
   "outputs": [
    {
     "name": "stdout",
     "output_type": "stream",
     "text": [
      "X_train_np shape:(640000, 6)\n",
      "X_val_np shape:(160000, 6)\n",
      "X_test_np shape:(200000, 6)\n"
     ]
    }
   ],
   "source": [
    "#Splitting into train, val and test sets maintaining the proportion of bkg, sig1, sig2\n",
    "X_bkg = bkg_labeled[:, :-1]\n",
    "y_bkg = bkg_labeled[:, -1]\n",
    "X_bkg_trainNval, X_bkg_test, y_bkg_trainNval, y_bkg_test = train_test_split(\n",
    "    X_bkg, y_bkg, test_size=0.2, random_state=42\n",
    ")\n",
    "\n",
    "X_sig1 = sig1_labeled[:, :-1]\n",
    "y_sig1 = sig1_labeled[:, -1]\n",
    "X_sig1_trainNval, X_sig1_test, y_sig1_trainNval, y_sig1_test = train_test_split(\n",
    "    X_sig1, y_sig1, test_size=0.2, random_state=42\n",
    ")\n",
    "\n",
    "X_sig2 = sig2_labeled[:, :-1]\n",
    "y_sig2 = sig2_labeled[:, -1]\n",
    "X_sig2_trainNval, X_sig2_test, y_sig2_trainNval, y_sig2_test = train_test_split(\n",
    "    X_sig2, y_sig2, test_size=0.2, random_state=42    \n",
    ")\n",
    "\n",
    "#Combine and shuffle the Test sets\n",
    "X_test_np = np.vstack([X_bkg_test, X_sig1_test, X_sig2_test])\n",
    "y_test_np = np.hstack([y_bkg_test, y_sig1_test, y_sig2_test])\n",
    "X_test_np, y_test_np = shuffle(X_test_np, y_test_np, random_state=42)\n",
    "\n",
    "#Combine and shuffle the Train+val tests\n",
    "X_trainNval_np = np.vstack([X_bkg_trainNval, X_sig1_trainNval, X_sig2_trainNval])\n",
    "y_trainNval_np = np.hstack([y_bkg_trainNval, y_sig1_trainNval, y_sig2_trainNval])\n",
    "X_trainNval_np, y_trainNval_np = shuffle(X_trainNval_np, y_trainNval_np, random_state=42)\n",
    "\n",
    "# Split into train and val\n",
    "X_train_np, X_val_np, y_train_np, y_val_np = train_test_split(\n",
    "    X_trainNval_np, y_trainNval_np, test_size=0.2, random_state=42\n",
    ")\n",
    "\n",
    "print(f\"X_train_np shape:{X_train_np.shape}\")\n",
    "print(f\"X_val_np shape:{X_val_np.shape}\")\n",
    "print(f\"X_test_np shape:{X_test_np.shape}\")"
   ]
  },
  {
   "cell_type": "code",
   "execution_count": 54,
   "metadata": {},
   "outputs": [
    {
     "name": "stdout",
     "output_type": "stream",
     "text": [
      "\n",
      "Class proportions in X_train_np:\n",
      "Background: 637923 samples, Proportion: 1.00, Percentage: 99.68%\n",
      "Signal: 2077 samples, Proportion: 0.00, Percentage: 0.32%\n",
      "\n",
      "Class proportions in X_val_np:\n",
      "Background: 159517 samples, Proportion: 1.00, Percentage: 99.70%\n",
      "Signal: 483 samples, Proportion: 0.00, Percentage: 0.30%\n",
      "\n",
      "Class proportions in X_test_np:\n",
      "Background: 199360 samples, Proportion: 1.00, Percentage: 99.68%\n",
      "Signal: 640 samples, Proportion: 0.00, Percentage: 0.32%\n"
     ]
    }
   ],
   "source": [
    "#selfcheck: bkg and sig should be proportionate in all sets\n",
    "def print_class_proportions(y, dataset_name, class_labels=None):\n",
    "    unique, counts = np.unique(y, return_counts=True)\n",
    "    proportions = dict(zip(unique, counts))\n",
    "    \n",
    "    total_samples = len(y)\n",
    "    \n",
    "    print(f\"\\nClass proportions in {dataset_name}:\")\n",
    "    for label, count in proportions.items():\n",
    "        label_name = class_labels[int(label)] if class_labels else f\"Label {int(label)}\"\n",
    "        percentage = (count / total_samples) * 100\n",
    "        print(f\"{label_name}: {count} samples, Proportion: {count / total_samples:.2f}, Percentage: {percentage:.2f}%\")\n",
    "\n",
    "# Example usage:\n",
    "class_labels = {0: \"Background\", 1: \"Signal\"}  # You can adjust these as necessary\n",
    "print_class_proportions(y_train_np, \"X_train_np\", class_labels)\n",
    "print_class_proportions(y_val_np, \"X_val_np\", class_labels)\n",
    "print_class_proportions(y_test_np, \"X_test_np\", class_labels)"
   ]
  },
  {
   "cell_type": "code",
   "execution_count": 56,
   "metadata": {},
   "outputs": [
    {
     "name": "stdout",
     "output_type": "stream",
     "text": [
      "\n",
      "Epoch: 0\n"
     ]
    },
    {
     "name": "stderr",
     "output_type": "stream",
     "text": [
      "Train loss: 0.357565: 100%|██████████| 640000/640000 [00:14<00:00, 44919.77it/s]\n"
     ]
    },
    {
     "name": "stdout",
     "output_type": "stream",
     "text": [
      "Validation loss: 0.3165055217683315\n",
      "\n",
      "Epoch: 1\n"
     ]
    },
    {
     "name": "stderr",
     "output_type": "stream",
     "text": [
      "Train loss: 0.326261: 100%|██████████| 640000/640000 [00:14<00:00, 44851.45it/s]\n"
     ]
    },
    {
     "name": "stdout",
     "output_type": "stream",
     "text": [
      "Validation loss: 0.32197228375077247\n",
      "\n",
      "Epoch: 2\n"
     ]
    },
    {
     "name": "stderr",
     "output_type": "stream",
     "text": [
      "Train loss: 0.322115: 100%|██████████| 640000/640000 [00:14<00:00, 44774.03it/s]\n"
     ]
    },
    {
     "name": "stdout",
     "output_type": "stream",
     "text": [
      "Validation loss: 0.3244141509115696\n",
      "\n",
      "Epoch: 3\n"
     ]
    },
    {
     "name": "stderr",
     "output_type": "stream",
     "text": [
      "Train loss: 0.321627: 100%|██████████| 640000/640000 [00:14<00:00, 42918.04it/s]\n"
     ]
    },
    {
     "name": "stdout",
     "output_type": "stream",
     "text": [
      "Validation loss: 0.33970563557744027\n",
      "\n",
      "Epoch: 4\n"
     ]
    },
    {
     "name": "stderr",
     "output_type": "stream",
     "text": [
      "Train loss: 0.319657: 100%|██████████| 640000/640000 [00:14<00:00, 44771.21it/s]\n"
     ]
    },
    {
     "name": "stdout",
     "output_type": "stream",
     "text": [
      "Validation loss: 0.32513847487568853\n",
      "\n",
      "Epoch: 5\n"
     ]
    },
    {
     "name": "stderr",
     "output_type": "stream",
     "text": [
      "Train loss: 0.320012: 100%|██████████| 640000/640000 [00:14<00:00, 45041.21it/s]\n"
     ]
    },
    {
     "name": "stdout",
     "output_type": "stream",
     "text": [
      "Validation loss: 0.31943213173151014\n",
      "\n",
      "Epoch: 6\n"
     ]
    },
    {
     "name": "stderr",
     "output_type": "stream",
     "text": [
      "Train loss: 0.299764:  35%|███▌      | 225664/638720 [2:02:35<3:44:22, 30.68it/s]\n",
      "Train loss: 0.317328: 100%|██████████| 640000/640000 [00:14<00:00, 44791.19it/s]\n"
     ]
    },
    {
     "name": "stdout",
     "output_type": "stream",
     "text": [
      "Validation loss: 0.3168668343067169\n",
      "\n",
      "Epoch: 7\n"
     ]
    },
    {
     "name": "stderr",
     "output_type": "stream",
     "text": [
      "Train loss: 0.312390: 100%|██████████| 640000/640000 [00:11<00:00, 58163.24it/s]\n"
     ]
    },
    {
     "name": "stdout",
     "output_type": "stream",
     "text": [
      "Validation loss: 0.3644628396630287\n",
      "\n",
      "Epoch: 8\n"
     ]
    },
    {
     "name": "stderr",
     "output_type": "stream",
     "text": [
      "Train loss: 0.313514: 100%|██████████| 640000/640000 [00:11<00:00, 57467.99it/s]\n"
     ]
    },
    {
     "name": "stdout",
     "output_type": "stream",
     "text": [
      "Validation loss: 0.316820658493042\n",
      "\n",
      "Epoch: 9\n"
     ]
    },
    {
     "name": "stderr",
     "output_type": "stream",
     "text": [
      "Train loss: 0.312952: 100%|██████████| 640000/640000 [00:10<00:00, 58226.20it/s]\n"
     ]
    },
    {
     "name": "stdout",
     "output_type": "stream",
     "text": [
      "Validation loss: 0.3314813363552094\n",
      "\n",
      "Epoch: 10\n"
     ]
    },
    {
     "name": "stderr",
     "output_type": "stream",
     "text": [
      "Train loss: 0.313957: 100%|██████████| 640000/640000 [00:11<00:00, 56547.45it/s]\n"
     ]
    },
    {
     "name": "stdout",
     "output_type": "stream",
     "text": [
      "Validation loss: 0.33859734245538714\n",
      "\n",
      "Epoch: 11\n"
     ]
    },
    {
     "name": "stderr",
     "output_type": "stream",
     "text": [
      "Train loss: 0.311414: 100%|██████████| 640000/640000 [00:10<00:00, 58819.94it/s]\n"
     ]
    },
    {
     "name": "stdout",
     "output_type": "stream",
     "text": [
      "Validation loss: 0.3171859497129917\n",
      "\n",
      "Epoch: 12\n"
     ]
    },
    {
     "name": "stderr",
     "output_type": "stream",
     "text": [
      "Train loss: 0.312471: 100%|██████████| 640000/640000 [00:11<00:00, 55187.36it/s]\n"
     ]
    },
    {
     "name": "stdout",
     "output_type": "stream",
     "text": [
      "Validation loss: 0.31921006237864497\n",
      "\n",
      "Epoch: 13\n"
     ]
    },
    {
     "name": "stderr",
     "output_type": "stream",
     "text": [
      "Train loss: 0.308937: 100%|██████████| 640000/640000 [00:11<00:00, 55217.47it/s]\n"
     ]
    },
    {
     "name": "stdout",
     "output_type": "stream",
     "text": [
      "Validation loss: 0.3417289407432079\n",
      "\n",
      "Epoch: 14\n"
     ]
    },
    {
     "name": "stderr",
     "output_type": "stream",
     "text": [
      "Train loss: 0.310416: 100%|██████████| 640000/640000 [00:11<00:00, 55657.21it/s]\n"
     ]
    },
    {
     "name": "stdout",
     "output_type": "stream",
     "text": [
      "Validation loss: 0.34031233229041097\n",
      "\n",
      "Epoch: 15\n"
     ]
    },
    {
     "name": "stderr",
     "output_type": "stream",
     "text": [
      "Train loss: 0.306267: 100%|██████████| 640000/640000 [00:11<00:00, 57958.58it/s]\n"
     ]
    },
    {
     "name": "stdout",
     "output_type": "stream",
     "text": [
      "Validation loss: 0.3352201039850712\n",
      "\n",
      "Epoch: 16\n"
     ]
    },
    {
     "name": "stderr",
     "output_type": "stream",
     "text": [
      "Train loss: 0.311081: 100%|██████████| 640000/640000 [00:11<00:00, 56024.42it/s]\n"
     ]
    },
    {
     "name": "stdout",
     "output_type": "stream",
     "text": [
      "Validation loss: 0.3371483990848064\n",
      "\n",
      "Epoch: 17\n"
     ]
    },
    {
     "name": "stderr",
     "output_type": "stream",
     "text": [
      "Train loss: 0.307138: 100%|██████████| 640000/640000 [00:11<00:00, 57691.04it/s]\n"
     ]
    },
    {
     "name": "stdout",
     "output_type": "stream",
     "text": [
      "Validation loss: 0.35925717599093915\n",
      "\n",
      "Epoch: 18\n"
     ]
    },
    {
     "name": "stderr",
     "output_type": "stream",
     "text": [
      "Train loss: 0.314103: 100%|██████████| 640000/640000 [00:11<00:00, 57447.50it/s]\n"
     ]
    },
    {
     "name": "stdout",
     "output_type": "stream",
     "text": [
      "Validation loss: 0.33609065260887144\n",
      "Early stopping at epoch 18\n",
      "Loading best model state...\n"
     ]
    },
    {
     "name": "stderr",
     "output_type": "stream",
     "text": [
      "/gpfs/dust/maxwell/user/yedechit/sk_cathode/sk_cathode/classifier_models/neural_network_classifier.py:385: FutureWarning: You are using `torch.load` with `weights_only=False` (the current default value), which uses the default pickle module implicitly. It is possible to construct malicious pickle data which will execute arbitrary code during unpickling (See https://github.com/pytorch/pytorch/blob/main/SECURITY.md#untrusted-models for more details). In a future release, the default value for `weights_only` will be flipped to `True`. This limits the functions that could be executed during unpickling. Arbitrary objects will no longer be allowed to be loaded via this mode unless they are explicitly allowlisted by the user via `torch.serialization.add_safe_globals`. We recommend you start setting `weights_only=True` for any use case where you don't have full control of the loaded file. Please open an issue on GitHub for any issues related to this experimental feature.\n",
      "  self.model.load_state_dict(torch.load(model_path,\n"
     ]
    }
   ],
   "source": [
    "# either train new NN classifier to distinguish between signal and background\n",
    "#let's normalize\n",
    "scaler = StandardScaler()\n",
    "\n",
    "#fit and transform\n",
    "X_train_np = scaler.fit_transform(X_train_np)\n",
    "X_val_np = scaler.transform(X_val_np)\n",
    "X_test_np = scaler.transform(X_test_np)\n",
    "\n",
    "sup_classifier_savedir = \"./trained_classifiers_supervised_bothsig/\"\n",
    "# Let's protect ourselves from accidentally overwriting a trained model.\n",
    "if not exists(join(sup_classifier_savedir, \"CLSF_models\")):\n",
    "    sup_classifier_model = NeuralNetworkClassifier(save_path=sup_classifier_savedir,\n",
    "                                                   n_inputs=X_train_np.shape[1],\n",
    "                                                   early_stopping=True, epochs=None,\n",
    "                                                   verbose=True)\n",
    "    sup_classifier_model.fit(X_train_np, y_train_np, X_val_np, y_val_np)\n",
    "else:\n",
    "    print(f\"The model exists already in {sup_classifier_savedir}. Remove first if you want to overwrite.\")"
   ]
  },
  {
   "cell_type": "code",
   "execution_count": 40,
   "metadata": {},
   "outputs": [],
   "source": [
    "# or alternatively load existing classifer model\n",
    "sup_classifier_savedir = \"./trained_classifiers_supervised_bothsig/\"\n",
    "sup_classifier_model = NeuralNetworkClassifier(save_path=sup_classifier_savedir,\n",
    "                                               n_inputs=X_train_np.shape[1],\n",
    "                                               load=True)"
   ]
  },
  {
   "cell_type": "markdown",
   "metadata": {},
   "source": [
    "We can now evaluate the performance of our supervised classifier in terms of ROC curves. Another useful metric in anomaly detection is the significance improvement characteristic: how much significance ($\\frac{S}{\\sqrt(B)}$) we would achieve after applying a cut on our classifier output, divided by the significance without any selection. The efficiency in the x-axis quantifies how tight we apply a cut."
   ]
  },
  {
   "cell_type": "code",
   "execution_count": 58,
   "metadata": {},
   "outputs": [
    {
     "data": {
      "image/png": "[encoded data removed]",
      "text/plain": [
       "<Figure size 640x480 with 1 Axes>"
      ]
     },
     "metadata": {},
     "output_type": "display_data"
    },
    {
     "data": {
      "image/png": "[encoded data removed]",
      "text/plain": [
       "<Figure size 640x480 with 1 Axes>"
      ]
     },
     "metadata": {},
     "output_type": "display_data"
    }
   ],
   "source": [
    "# now let's evaluate the signal extraction performance\n",
    "preds_test = sup_classifier_model.predict(X_test_np)\n",
    "\n",
    "with np.errstate(divide='ignore', invalid='ignore'):\n",
    "    fpr, tpr, _ = roc_curve(y_test_np, preds_test)\n",
    "    bkg_rej = 1 / fpr\n",
    "    sic = tpr / np.sqrt(fpr)\n",
    "\n",
    "    random_tpr = np.linspace(0, 1, 300)\n",
    "    random_bkg_rej = 1 / random_tpr\n",
    "    random_sic = random_tpr / np.sqrt(random_tpr)\n",
    "\n",
    "# ROC curve\n",
    "plt.plot(tpr, bkg_rej, label=\"supervised\", color='tab:purple')\n",
    "plt.plot(random_tpr, random_bkg_rej, \"k:\", label=\"random\")\n",
    "plt.xlabel(\"True Positive Rate\")\n",
    "plt.ylabel(\"Background Rejection\")\n",
    "plt.yscale(\"log\")\n",
    "plt.legend(loc=\"upper right\")\n",
    "plt.show()\n",
    "\n",
    "# SIC curve\n",
    "plt.plot(tpr, sic, label=\"supervised\", color='tab:purple')\n",
    "plt.plot(random_tpr, random_sic, \"k:\", label=\"random\")\n",
    "plt.xlabel(\"True Positive Rate\")\n",
    "plt.ylabel(\"Significance Improvement\")\n",
    "plt.legend(loc=\"upper right\")\n",
    "plt.show()"
   ]
  },
  {
   "cell_type": "markdown",
   "metadata": {},
   "source": [
    "This classifier clearly yields good separation between signal and background data.\n",
    "\n",
    "Now we would like to move on to training an idealized anomaly detector. We just take the \"data\" with mostly background and a small fraction of signal, and train a classifier to distinguish it from a pure background sample."
   ]
  },
  {
   "cell_type": "code",
   "execution_count": 39,
   "metadata": {},
   "outputs": [],
   "source": [
    "# assigning label 1 to \"data\"\n",
    "iad_clsf_train_data = innerdata_train.copy()\n",
    "iad_clsf_train_data[:, -1] = np.ones_like(iad_clsf_train_data[:, -1])\n",
    "iad_clsf_val_data = innerdata_val.copy()\n",
    "iad_clsf_val_data[:, -1] = np.ones_like(iad_clsf_val_data[:, -1])\n",
    "\n",
    "# and label 0 to background\n",
    "iad_clsf_train_bkg = innerdata_extrabkg_train.copy()\n",
    "iad_clsf_train_bkg[:, -1] = np.zeros_like(iad_clsf_train_bkg[:, -1])\n",
    "iad_clsf_val_bkg = innerdata_extrabkg_val.copy()\n",
    "iad_clsf_val_bkg[:, -1] = np.zeros_like(iad_clsf_val_bkg[:, -1])\n",
    "\n",
    "# mixing together and shuffling\n",
    "iad_clsf_train_set = np.vstack([iad_clsf_train_data, iad_clsf_train_bkg])\n",
    "iad_clsf_val_set = np.vstack([iad_clsf_val_data, iad_clsf_val_bkg])\n",
    "iad_clsf_train_set = shuffle(iad_clsf_train_set, random_state=42)\n",
    "iad_clsf_val_set = shuffle(iad_clsf_val_set, random_state=42)"
   ]
  },
  {
   "cell_type": "code",
   "execution_count": 40,
   "metadata": {},
   "outputs": [
    {
     "name": "stdout",
     "output_type": "stream",
     "text": [
      "The model exists already in ./trained_classifiers_idealized-ad_0/. Remove first if you want to overwrite.\n"
     ]
    }
   ],
   "source": [
    "# either train new NN classifier to distinguish between \"data\" and background\n",
    "\n",
    "iad_scaler = StandardScaler()\n",
    "iad_scaler.fit(iad_clsf_train_set[:, 1:-1])\n",
    "\n",
    "X_train = iad_scaler.transform(iad_clsf_train_set[:, 1:-1])\n",
    "y_train = iad_clsf_train_set[:, -1]\n",
    "X_val = iad_scaler.transform(iad_clsf_val_set[:, 1:-1])\n",
    "y_val = iad_clsf_val_set[:, -1]\n",
    "\n",
    "iad_classifier_savedir = \"./trained_classifiers_idealized-ad_0/\"\n",
    "# Let's protect ourselves from accidentally overwriting a trained model.\n",
    "if not exists(join(iad_classifier_savedir, \"CLSF_models\")):\n",
    "    iad_classifier_model = NeuralNetworkClassifier(save_path=iad_classifier_savedir,\n",
    "                                                   n_inputs=X_train.shape[1],\n",
    "                                                   early_stopping=True, epochs=None,\n",
    "                                                   verbose=True)\n",
    "    iad_classifier_model.fit(X_train, y_train, X_val, y_val)\n",
    "else:\n",
    "    print(f\"The model exists already in {iad_classifier_savedir}. Remove first if you want to overwrite.\")"
   ]
  },
  {
   "cell_type": "code",
   "execution_count": 41,
   "metadata": {},
   "outputs": [
    {
     "name": "stderr",
     "output_type": "stream",
     "text": [
      "/gpfs/dust/maxwell/user/yedechit/sk_cathode/sk_cathode/classifier_models/neural_network_classifier.py:385: FutureWarning: You are using `torch.load` with `weights_only=False` (the current default value), which uses the default pickle module implicitly. It is possible to construct malicious pickle data which will execute arbitrary code during unpickling (See https://github.com/pytorch/pytorch/blob/main/SECURITY.md#untrusted-models for more details). In a future release, the default value for `weights_only` will be flipped to `True`. This limits the functions that could be executed during unpickling. Arbitrary objects will no longer be allowed to be loaded via this mode unless they are explicitly allowlisted by the user via `torch.serialization.add_safe_globals`. We recommend you start setting `weights_only=True` for any use case where you don't have full control of the loaded file. Please open an issue on GitHub for any issues related to this experimental feature.\n",
      "  self.model.load_state_dict(torch.load(model_path,\n"
     ]
    }
   ],
   "source": [
    "# or alternatively load existing classifer model\n",
    "\n",
    "iad_scaler = StandardScaler()\n",
    "iad_scaler.fit(iad_clsf_train_set[:, 1:-1])\n",
    "\n",
    "iad_classifier_savedir = \"./trained_classifiers_idealized-ad_0/\"\n",
    "iad_classifier_model = NeuralNetworkClassifier(save_path=iad_classifier_savedir,\n",
    "                                               n_inputs=iad_clsf_train_set[:, 1:-1].shape[1],\n",
    "                                               load=True)"
   ]
  },
  {
   "cell_type": "code",
   "execution_count": 42,
   "metadata": {},
   "outputs": [
    {
     "data": {
      "image/png": "[encoded data removed]",
      "text/plain": [
       "<Figure size 640x480 with 1 Axes>"
      ]
     },
     "metadata": {},
     "output_type": "display_data"
    },
    {
     "data": {
      "image/png": "[encoded data removed]",
      "text/plain": [
       "<Figure size 640x480 with 1 Axes>"
      ]
     },
     "metadata": {},
     "output_type": "display_data"
    }
   ],
   "source": [
    "# now let's evaluate the signal extraction performance on the same test set\n",
    "\n",
    "clsf_test_set = np.vstack([innerdata_test,\n",
    "                           innerdata_extrabkg_test,\n",
    "                           innerdata_extrasig_test])\n",
    "\n",
    "X_test = iad_scaler.transform(clsf_test_set[:, 1:-1])\n",
    "y_test = clsf_test_set[:, -1]\n",
    "\n",
    "preds_test = iad_classifier_model.predict(X_test)\n",
    "\n",
    "with np.errstate(divide='ignore', invalid='ignore'):\n",
    "    fpr, tpr, _ = roc_curve(y_test, preds_test)\n",
    "    bkg_rej = 1 / fpr\n",
    "    sic = tpr / np.sqrt(fpr)\n",
    "\n",
    "    random_tpr = np.linspace(0, 1, 300)\n",
    "    random_bkg_rej = 1 / random_tpr\n",
    "    random_sic = random_tpr / np.sqrt(random_tpr)\n",
    "\n",
    "# ROC curve\n",
    "plt.plot(tpr, bkg_rej, label=\"idealized AD\")\n",
    "plt.plot(random_tpr, random_bkg_rej, \"w:\", label=\"random\")\n",
    "plt.xlabel(\"True Positive Rate\")\n",
    "plt.ylabel(\"Background Rejection\")\n",
    "plt.yscale(\"log\")\n",
    "plt.legend(loc=\"upper right\")\n",
    "plt.show()\n",
    "\n",
    "# SIC curve\n",
    "plt.plot(tpr, sic, label=\"idealized AD\")\n",
    "plt.plot(random_tpr, random_sic, \"w:\", label=\"random\")\n",
    "plt.xlabel(\"True Positive Rate\")\n",
    "plt.ylabel(\"Significance Improvement\")\n",
    "plt.legend(loc=\"upper right\")\n",
    "plt.show()"
   ]
  },
  {
   "cell_type": "markdown",
   "metadata": {},
   "source": [
    "The plots above should also show quite good significance improvement, however a bit lower than in the fully supervised case. Under perfect training conditions, the two should be equal, but in practice we would need more and more training data with decreasing signal fractions to achieve this.\n",
    "\n",
    "For the fun of it, let's compare the two approaches more thoroughly in terms of their signal extraction performance, rather than looking at two individual trainings. We will train ten classifiers each with the same data, then show their performance in terms of median and 68% confidence interval bands."
   ]
  },
  {
   "cell_type": "code",
   "execution_count": 43,
   "metadata": {},
   "outputs": [
    {
     "name": "stderr",
     "output_type": "stream",
     "text": [
      "/gpfs/dust/maxwell/user/yedechit/sk_cathode/sk_cathode/classifier_models/neural_network_classifier.py:385: FutureWarning: You are using `torch.load` with `weights_only=False` (the current default value), which uses the default pickle module implicitly. It is possible to construct malicious pickle data which will execute arbitrary code during unpickling (See https://github.com/pytorch/pytorch/blob/main/SECURITY.md#untrusted-models for more details). In a future release, the default value for `weights_only` will be flipped to `True`. This limits the functions that could be executed during unpickling. Arbitrary objects will no longer be allowed to be loaded via this mode unless they are explicitly allowlisted by the user via `torch.serialization.add_safe_globals`. We recommend you start setting `weights_only=True` for any use case where you don't have full control of the loaded file. Please open an issue on GitHub for any issues related to this experimental feature.\n",
      "  self.model.load_state_dict(torch.load(model_path,\n"
     ]
    },
    {
     "name": "stdout",
     "output_type": "stream",
     "text": [
      "The model exists already in ./trained_classifiers_supervised_0/. Remove first if you want to overwrite. Loading its best state now.\n",
      "The model exists already in ./trained_classifiers_supervised_1/. Remove first if you want to overwrite. Loading its best state now.\n",
      "The model exists already in ./trained_classifiers_supervised_2/. Remove first if you want to overwrite. Loading its best state now.\n",
      "The model exists already in ./trained_classifiers_supervised_3/. Remove first if you want to overwrite. Loading its best state now.\n",
      "The model exists already in ./trained_classifiers_supervised_4/. Remove first if you want to overwrite. Loading its best state now.\n",
      "The model exists already in ./trained_classifiers_supervised_5/. Remove first if you want to overwrite. Loading its best state now.\n",
      "The model exists already in ./trained_classifiers_supervised_6/. Remove first if you want to overwrite. Loading its best state now.\n",
      "The model exists already in ./trained_classifiers_supervised_7/. Remove first if you want to overwrite. Loading its best state now.\n",
      "\n",
      "Epoch: 0\n"
     ]
    },
    {
     "name": "stderr",
     "output_type": "stream",
     "text": [
      "Train loss: 0.247391: 100%|██████████| 302370/302370 [00:08<00:00, 35806.13it/s]\n"
     ]
    },
    {
     "name": "stdout",
     "output_type": "stream",
     "text": [
      "Validation loss: 0.22299507438756858\n",
      "\n",
      "Epoch: 1\n"
     ]
    },
    {
     "name": "stderr",
     "output_type": "stream",
     "text": [
      "Train loss: 0.223731: 100%|██████████| 302370/302370 [00:08<00:00, 36609.84it/s]\n"
     ]
    },
    {
     "name": "stdout",
     "output_type": "stream",
     "text": [
      "Validation loss: 0.21976283245785222\n",
      "\n",
      "Epoch: 2\n"
     ]
    },
    {
     "name": "stderr",
     "output_type": "stream",
     "text": [
      "Train loss: 0.221045: 100%|██████████| 302370/302370 [00:08<00:00, 36367.10it/s]\n"
     ]
    },
    {
     "name": "stdout",
     "output_type": "stream",
     "text": [
      "Validation loss: 0.21796450693706038\n",
      "\n",
      "Epoch: 3\n"
     ]
    },
    {
     "name": "stderr",
     "output_type": "stream",
     "text": [
      "Train loss: 0.219888: 100%|██████████| 302370/302370 [00:08<00:00, 36421.75it/s]\n"
     ]
    },
    {
     "name": "stdout",
     "output_type": "stream",
     "text": [
      "Validation loss: 0.21954287338029047\n",
      "\n",
      "Epoch: 4\n"
     ]
    },
    {
     "name": "stderr",
     "output_type": "stream",
     "text": [
      "Train loss: 0.219132: 100%|██████████| 302370/302370 [00:08<00:00, 35658.89it/s]\n"
     ]
    },
    {
     "name": "stdout",
     "output_type": "stream",
     "text": [
      "Validation loss: 0.22176746616887438\n",
      "\n",
      "Epoch: 5\n"
     ]
    },
    {
     "name": "stderr",
     "output_type": "stream",
     "text": [
      "Train loss: 0.218503: 100%|██████████| 302370/302370 [00:08<00:00, 35397.64it/s]\n"
     ]
    },
    {
     "name": "stdout",
     "output_type": "stream",
     "text": [
      "Validation loss: 0.21673814587911983\n",
      "\n",
      "Epoch: 6\n"
     ]
    },
    {
     "name": "stderr",
     "output_type": "stream",
     "text": [
      "Train loss: 0.217647: 100%|██████████| 302370/302370 [00:08<00:00, 35832.37it/s]\n"
     ]
    },
    {
     "name": "stdout",
     "output_type": "stream",
     "text": [
      "Validation loss: 0.2164330266463529\n",
      "\n",
      "Epoch: 7\n"
     ]
    },
    {
     "name": "stderr",
     "output_type": "stream",
     "text": [
      "Train loss: 0.217073: 100%|██████████| 302370/302370 [00:08<00:00, 34859.57it/s]\n"
     ]
    },
    {
     "name": "stdout",
     "output_type": "stream",
     "text": [
      "Validation loss: 0.21775711418906596\n",
      "\n",
      "Epoch: 8\n"
     ]
    },
    {
     "name": "stderr",
     "output_type": "stream",
     "text": [
      "Train loss: 0.216841: 100%|██████████| 302370/302370 [00:09<00:00, 30753.84it/s]\n"
     ]
    },
    {
     "name": "stdout",
     "output_type": "stream",
     "text": [
      "Validation loss: 0.2154211470465751\n",
      "\n",
      "Epoch: 9\n"
     ]
    },
    {
     "name": "stderr",
     "output_type": "stream",
     "text": [
      "Train loss: 0.216737: 100%|██████████| 302370/302370 [00:10<00:00, 28635.41it/s]\n"
     ]
    },
    {
     "name": "stdout",
     "output_type": "stream",
     "text": [
      "Validation loss: 0.215452202186463\n",
      "\n",
      "Epoch: 10\n"
     ]
    },
    {
     "name": "stderr",
     "output_type": "stream",
     "text": [
      "Train loss: 0.216346: 100%|██████████| 302370/302370 [00:08<00:00, 34179.31it/s]\n"
     ]
    },
    {
     "name": "stdout",
     "output_type": "stream",
     "text": [
      "Validation loss: 0.21489813367652286\n",
      "\n",
      "Epoch: 11\n"
     ]
    },
    {
     "name": "stderr",
     "output_type": "stream",
     "text": [
      "Train loss: 0.215962: 100%|██████████| 302370/302370 [00:08<00:00, 34479.37it/s]\n"
     ]
    },
    {
     "name": "stdout",
     "output_type": "stream",
     "text": [
      "Validation loss: 0.21468878016350376\n",
      "\n",
      "Epoch: 12\n"
     ]
    },
    {
     "name": "stderr",
     "output_type": "stream",
     "text": [
      "Train loss: 0.216099: 100%|██████████| 302370/302370 [00:08<00:00, 34707.99it/s]\n"
     ]
    },
    {
     "name": "stdout",
     "output_type": "stream",
     "text": [
      "Validation loss: 0.21510312063678813\n",
      "\n",
      "Epoch: 13\n"
     ]
    },
    {
     "name": "stderr",
     "output_type": "stream",
     "text": [
      "Train loss: 0.215795: 100%|██████████| 302370/302370 [00:08<00:00, 35199.07it/s]\n"
     ]
    },
    {
     "name": "stdout",
     "output_type": "stream",
     "text": [
      "Validation loss: 0.21677777886770333\n",
      "\n",
      "Epoch: 14\n"
     ]
    },
    {
     "name": "stderr",
     "output_type": "stream",
     "text": [
      "Train loss: 0.215297: 100%|██████████| 302370/302370 [00:08<00:00, 35762.82it/s]\n"
     ]
    },
    {
     "name": "stdout",
     "output_type": "stream",
     "text": [
      "Validation loss: 0.21742223226910184\n",
      "\n",
      "Epoch: 15\n"
     ]
    },
    {
     "name": "stderr",
     "output_type": "stream",
     "text": [
      "Train loss: 0.215089: 100%|██████████| 302370/302370 [00:08<00:00, 34788.57it/s]\n"
     ]
    },
    {
     "name": "stdout",
     "output_type": "stream",
     "text": [
      "Validation loss: 0.21733649293328547\n",
      "\n",
      "Epoch: 16\n"
     ]
    },
    {
     "name": "stderr",
     "output_type": "stream",
     "text": [
      "Train loss: 0.214917: 100%|██████████| 302370/302370 [00:08<00:00, 35243.41it/s]\n"
     ]
    },
    {
     "name": "stdout",
     "output_type": "stream",
     "text": [
      "Validation loss: 0.2165581360933887\n",
      "\n",
      "Epoch: 17\n"
     ]
    },
    {
     "name": "stderr",
     "output_type": "stream",
     "text": [
      "Train loss: 0.214710: 100%|██████████| 302370/302370 [00:08<00:00, 35206.05it/s]\n"
     ]
    },
    {
     "name": "stdout",
     "output_type": "stream",
     "text": [
      "Validation loss: 0.2136445036549477\n",
      "\n",
      "Epoch: 18\n"
     ]
    },
    {
     "name": "stderr",
     "output_type": "stream",
     "text": [
      "Train loss: 0.214453: 100%|██████████| 302370/302370 [00:08<00:00, 34781.59it/s]\n"
     ]
    },
    {
     "name": "stdout",
     "output_type": "stream",
     "text": [
      "Validation loss: 0.21454811391367273\n",
      "\n",
      "Epoch: 19\n"
     ]
    },
    {
     "name": "stderr",
     "output_type": "stream",
     "text": [
      "Train loss: 0.213814: 100%|██████████| 302370/302370 [00:08<00:00, 35150.04it/s]\n"
     ]
    },
    {
     "name": "stdout",
     "output_type": "stream",
     "text": [
      "Validation loss: 0.21633428311461855\n",
      "\n",
      "Epoch: 20\n"
     ]
    },
    {
     "name": "stderr",
     "output_type": "stream",
     "text": [
      "Train loss: 0.213563: 100%|██████████| 302370/302370 [00:08<00:00, 35143.92it/s]\n"
     ]
    },
    {
     "name": "stdout",
     "output_type": "stream",
     "text": [
      "Validation loss: 0.21563337106423772\n",
      "\n",
      "Epoch: 21\n"
     ]
    },
    {
     "name": "stderr",
     "output_type": "stream",
     "text": [
      "Train loss: 0.213239: 100%|██████████| 302370/302370 [00:08<00:00, 35781.54it/s]\n"
     ]
    },
    {
     "name": "stdout",
     "output_type": "stream",
     "text": [
      "Validation loss: 0.21397767250135447\n",
      "\n",
      "Epoch: 22\n"
     ]
    },
    {
     "name": "stderr",
     "output_type": "stream",
     "text": [
      "Train loss: 0.213122: 100%|██████████| 302370/302370 [00:08<00:00, 34805.19it/s]\n"
     ]
    },
    {
     "name": "stdout",
     "output_type": "stream",
     "text": [
      "Validation loss: 0.21415535216308704\n",
      "\n",
      "Epoch: 23\n"
     ]
    },
    {
     "name": "stderr",
     "output_type": "stream",
     "text": [
      "Train loss: 0.213154: 100%|██████████| 302370/302370 [00:08<00:00, 35731.60it/s]\n"
     ]
    },
    {
     "name": "stdout",
     "output_type": "stream",
     "text": [
      "Validation loss: 0.21364770836321412\n",
      "\n",
      "Epoch: 24\n"
     ]
    },
    {
     "name": "stderr",
     "output_type": "stream",
     "text": [
      "Train loss: 0.212913: 100%|██████████| 302370/302370 [00:08<00:00, 35553.27it/s]\n"
     ]
    },
    {
     "name": "stdout",
     "output_type": "stream",
     "text": [
      "Validation loss: 0.21293023352979853\n",
      "\n",
      "Epoch: 25\n"
     ]
    },
    {
     "name": "stderr",
     "output_type": "stream",
     "text": [
      "Train loss: 0.212796: 100%|██████████| 302370/302370 [00:08<00:00, 35449.89it/s]\n"
     ]
    },
    {
     "name": "stdout",
     "output_type": "stream",
     "text": [
      "Validation loss: 0.21508754212765177\n",
      "\n",
      "Epoch: 26\n"
     ]
    },
    {
     "name": "stderr",
     "output_type": "stream",
     "text": [
      "Train loss: 0.212489: 100%|██████████| 302370/302370 [00:08<00:00, 35438.37it/s]\n"
     ]
    },
    {
     "name": "stdout",
     "output_type": "stream",
     "text": [
      "Validation loss: 0.21354811369993124\n",
      "\n",
      "Epoch: 27\n"
     ]
    },
    {
     "name": "stderr",
     "output_type": "stream",
     "text": [
      "Train loss: 0.212381: 100%|██████████| 302370/302370 [00:08<00:00, 35001.36it/s]\n"
     ]
    },
    {
     "name": "stdout",
     "output_type": "stream",
     "text": [
      "Validation loss: 0.21363289817503303\n",
      "\n",
      "Epoch: 28\n"
     ]
    },
    {
     "name": "stderr",
     "output_type": "stream",
     "text": [
      "Train loss: 0.211833: 100%|██████████| 302370/302370 [00:08<00:00, 35748.38it/s]\n"
     ]
    },
    {
     "name": "stdout",
     "output_type": "stream",
     "text": [
      "Validation loss: 0.21533567560895991\n",
      "\n",
      "Epoch: 29\n"
     ]
    },
    {
     "name": "stderr",
     "output_type": "stream",
     "text": [
      "Train loss: 0.211984: 100%|██████████| 302370/302370 [00:08<00:00, 35575.15it/s]\n"
     ]
    },
    {
     "name": "stdout",
     "output_type": "stream",
     "text": [
      "Validation loss: 0.21253573074462306\n",
      "\n",
      "Epoch: 30\n"
     ]
    },
    {
     "name": "stderr",
     "output_type": "stream",
     "text": [
      "Train loss: 0.212199: 100%|██████████| 302370/302370 [00:08<00:00, 34698.72it/s]\n"
     ]
    },
    {
     "name": "stdout",
     "output_type": "stream",
     "text": [
      "Validation loss: 0.2193098934402891\n",
      "\n",
      "Epoch: 31\n"
     ]
    },
    {
     "name": "stderr",
     "output_type": "stream",
     "text": [
      "Train loss: 0.211953: 100%|██████████| 302370/302370 [00:08<00:00, 35576.05it/s]\n"
     ]
    },
    {
     "name": "stdout",
     "output_type": "stream",
     "text": [
      "Validation loss: 0.2165806412412103\n",
      "\n",
      "Epoch: 32\n"
     ]
    },
    {
     "name": "stderr",
     "output_type": "stream",
     "text": [
      "Train loss: 0.212059: 100%|██████████| 302370/302370 [00:08<00:00, 35488.45it/s]\n"
     ]
    },
    {
     "name": "stdout",
     "output_type": "stream",
     "text": [
      "Validation loss: 0.2126949654168384\n",
      "\n",
      "Epoch: 33\n"
     ]
    },
    {
     "name": "stderr",
     "output_type": "stream",
     "text": [
      "Train loss: 0.211824: 100%|██████████| 302370/302370 [00:09<00:00, 32493.16it/s]\n"
     ]
    },
    {
     "name": "stdout",
     "output_type": "stream",
     "text": [
      "Validation loss: 0.21496378970184143\n",
      "\n",
      "Epoch: 34\n"
     ]
    },
    {
     "name": "stderr",
     "output_type": "stream",
     "text": [
      "Train loss: 0.211628: 100%|██████████| 302370/302370 [00:10<00:00, 29399.26it/s]\n"
     ]
    },
    {
     "name": "stdout",
     "output_type": "stream",
     "text": [
      "Validation loss: 0.21310127993013447\n",
      "\n",
      "Epoch: 35\n"
     ]
    },
    {
     "name": "stderr",
     "output_type": "stream",
     "text": [
      "Train loss: 0.211736: 100%|██████████| 302370/302370 [00:10<00:00, 28761.54it/s]\n"
     ]
    },
    {
     "name": "stdout",
     "output_type": "stream",
     "text": [
      "Validation loss: 0.2129095878760526\n",
      "\n",
      "Epoch: 36\n"
     ]
    },
    {
     "name": "stderr",
     "output_type": "stream",
     "text": [
      "Train loss: 0.211445: 100%|██████████| 302370/302370 [00:10<00:00, 28884.17it/s]\n"
     ]
    },
    {
     "name": "stdout",
     "output_type": "stream",
     "text": [
      "Validation loss: 0.21467943378504675\n",
      "\n",
      "Epoch: 37\n"
     ]
    },
    {
     "name": "stderr",
     "output_type": "stream",
     "text": [
      "Train loss: 0.211383: 100%|██████████| 302370/302370 [00:10<00:00, 29352.91it/s]\n"
     ]
    },
    {
     "name": "stdout",
     "output_type": "stream",
     "text": [
      "Validation loss: 0.2127482490459825\n",
      "\n",
      "Epoch: 38\n"
     ]
    },
    {
     "name": "stderr",
     "output_type": "stream",
     "text": [
      "Train loss: 0.211301: 100%|██████████| 302370/302370 [00:08<00:00, 35456.98it/s]\n"
     ]
    },
    {
     "name": "stdout",
     "output_type": "stream",
     "text": [
      "Validation loss: 0.21271407614657833\n",
      "\n",
      "Epoch: 39\n"
     ]
    },
    {
     "name": "stderr",
     "output_type": "stream",
     "text": [
      "Train loss: 0.211496: 100%|██████████| 302370/302370 [00:08<00:00, 34864.46it/s]\n",
      "/gpfs/dust/maxwell/user/yedechit/sk_cathode/sk_cathode/classifier_models/neural_network_classifier.py:385: FutureWarning: You are using `torch.load` with `weights_only=False` (the current default value), which uses the default pickle module implicitly. It is possible to construct malicious pickle data which will execute arbitrary code during unpickling (See https://github.com/pytorch/pytorch/blob/main/SECURITY.md#untrusted-models for more details). In a future release, the default value for `weights_only` will be flipped to `True`. This limits the functions that could be executed during unpickling. Arbitrary objects will no longer be allowed to be loaded via this mode unless they are explicitly allowlisted by the user via `torch.serialization.add_safe_globals`. We recommend you start setting `weights_only=True` for any use case where you don't have full control of the loaded file. Please open an issue on GitHub for any issues related to this experimental feature.\n",
      "  self.model.load_state_dict(torch.load(model_path,\n"
     ]
    },
    {
     "name": "stdout",
     "output_type": "stream",
     "text": [
      "Validation loss: 0.21420188861288084\n",
      "Early stopping at epoch 39\n",
      "Loading best model state...\n",
      "\n",
      "Epoch: 0\n"
     ]
    },
    {
     "name": "stderr",
     "output_type": "stream",
     "text": [
      "Train loss: 0.247935: 100%|██████████| 302370/302370 [00:08<00:00, 34990.57it/s]\n"
     ]
    },
    {
     "name": "stdout",
     "output_type": "stream",
     "text": [
      "Validation loss: 0.23698547395171632\n",
      "\n",
      "Epoch: 1\n"
     ]
    },
    {
     "name": "stderr",
     "output_type": "stream",
     "text": [
      "Train loss: 0.224219: 100%|██████████| 302370/302370 [00:08<00:00, 35055.96it/s]\n"
     ]
    },
    {
     "name": "stdout",
     "output_type": "stream",
     "text": [
      "Validation loss: 0.2246066508494365\n",
      "\n",
      "Epoch: 2\n"
     ]
    },
    {
     "name": "stderr",
     "output_type": "stream",
     "text": [
      "Train loss: 0.221425: 100%|██████████| 302370/302370 [00:08<00:00, 36389.79it/s]\n"
     ]
    },
    {
     "name": "stdout",
     "output_type": "stream",
     "text": [
      "Validation loss: 0.22074015285748586\n",
      "\n",
      "Epoch: 3\n"
     ]
    },
    {
     "name": "stderr",
     "output_type": "stream",
     "text": [
      "Train loss: 0.220319: 100%|██████████| 302370/302370 [00:08<00:00, 35429.60it/s]\n"
     ]
    },
    {
     "name": "stdout",
     "output_type": "stream",
     "text": [
      "Validation loss: 0.22207624285843722\n",
      "\n",
      "Epoch: 4\n"
     ]
    },
    {
     "name": "stderr",
     "output_type": "stream",
     "text": [
      "Train loss: 0.219281: 100%|██████████| 302370/302370 [00:08<00:00, 35249.09it/s]\n"
     ]
    },
    {
     "name": "stdout",
     "output_type": "stream",
     "text": [
      "Validation loss: 0.2157793418427182\n",
      "\n",
      "Epoch: 5\n"
     ]
    },
    {
     "name": "stderr",
     "output_type": "stream",
     "text": [
      "Train loss: 0.218318: 100%|██████████| 302370/302370 [00:08<00:00, 35685.29it/s]\n"
     ]
    },
    {
     "name": "stdout",
     "output_type": "stream",
     "text": [
      "Validation loss: 0.21638258404223024\n",
      "\n",
      "Epoch: 6\n"
     ]
    },
    {
     "name": "stderr",
     "output_type": "stream",
     "text": [
      "Train loss: 0.218109: 100%|██████████| 302370/302370 [00:08<00:00, 35669.79it/s]\n"
     ]
    },
    {
     "name": "stdout",
     "output_type": "stream",
     "text": [
      "Validation loss: 0.21597263445709922\n",
      "\n",
      "Epoch: 7\n"
     ]
    },
    {
     "name": "stderr",
     "output_type": "stream",
     "text": [
      "Train loss: 0.217332: 100%|██████████| 302370/302370 [00:08<00:00, 36277.38it/s]\n"
     ]
    },
    {
     "name": "stdout",
     "output_type": "stream",
     "text": [
      "Validation loss: 0.2162281770804885\n",
      "\n",
      "Epoch: 8\n"
     ]
    },
    {
     "name": "stderr",
     "output_type": "stream",
     "text": [
      "Train loss: 0.216915: 100%|██████████| 302370/302370 [00:08<00:00, 34395.86it/s]\n"
     ]
    },
    {
     "name": "stdout",
     "output_type": "stream",
     "text": [
      "Validation loss: 0.21617188615973587\n",
      "\n",
      "Epoch: 9\n"
     ]
    },
    {
     "name": "stderr",
     "output_type": "stream",
     "text": [
      "Train loss: 0.216914: 100%|██████████| 302370/302370 [00:08<00:00, 34425.91it/s]\n"
     ]
    },
    {
     "name": "stdout",
     "output_type": "stream",
     "text": [
      "Validation loss: 0.2156197530164081\n",
      "\n",
      "Epoch: 10\n"
     ]
    },
    {
     "name": "stderr",
     "output_type": "stream",
     "text": [
      "Train loss: 0.216480: 100%|██████████| 302370/302370 [00:08<00:00, 35530.90it/s]\n"
     ]
    },
    {
     "name": "stdout",
     "output_type": "stream",
     "text": [
      "Validation loss: 0.21703870039267145\n",
      "\n",
      "Epoch: 11\n"
     ]
    },
    {
     "name": "stderr",
     "output_type": "stream",
     "text": [
      "Train loss: 0.216256: 100%|██████████| 302370/302370 [00:10<00:00, 28846.61it/s]\n"
     ]
    },
    {
     "name": "stdout",
     "output_type": "stream",
     "text": [
      "Validation loss: 0.2150329536977847\n",
      "\n",
      "Epoch: 12\n"
     ]
    },
    {
     "name": "stderr",
     "output_type": "stream",
     "text": [
      "Train loss: 0.216033: 100%|██████████| 302370/302370 [00:09<00:00, 31377.53it/s]\n"
     ]
    },
    {
     "name": "stdout",
     "output_type": "stream",
     "text": [
      "Validation loss: 0.2170461470961191\n",
      "\n",
      "Epoch: 13\n"
     ]
    },
    {
     "name": "stderr",
     "output_type": "stream",
     "text": [
      "Train loss: 0.216040: 100%|██████████| 302370/302370 [00:10<00:00, 29895.12it/s]\n"
     ]
    },
    {
     "name": "stdout",
     "output_type": "stream",
     "text": [
      "Validation loss: 0.21967643954951294\n",
      "\n",
      "Epoch: 14\n"
     ]
    },
    {
     "name": "stderr",
     "output_type": "stream",
     "text": [
      "Train loss: 0.215497: 100%|██████████| 302370/302370 [00:10<00:00, 28979.98it/s]\n"
     ]
    },
    {
     "name": "stdout",
     "output_type": "stream",
     "text": [
      "Validation loss: 0.21646276875665993\n",
      "\n",
      "Epoch: 15\n"
     ]
    },
    {
     "name": "stderr",
     "output_type": "stream",
     "text": [
      "Train loss: 0.215182: 100%|██████████| 302370/302370 [00:08<00:00, 34143.65it/s]\n"
     ]
    },
    {
     "name": "stdout",
     "output_type": "stream",
     "text": [
      "Validation loss: 0.21503495797040356\n",
      "\n",
      "Epoch: 16\n"
     ]
    },
    {
     "name": "stderr",
     "output_type": "stream",
     "text": [
      "Train loss: 0.215228: 100%|██████████| 302370/302370 [00:08<00:00, 35467.59it/s]\n"
     ]
    },
    {
     "name": "stdout",
     "output_type": "stream",
     "text": [
      "Validation loss: 0.21460921208190312\n",
      "\n",
      "Epoch: 17\n"
     ]
    },
    {
     "name": "stderr",
     "output_type": "stream",
     "text": [
      "Train loss: 0.215297: 100%|██████████| 302370/302370 [00:08<00:00, 35646.48it/s]\n"
     ]
    },
    {
     "name": "stdout",
     "output_type": "stream",
     "text": [
      "Validation loss: 0.2158211439942858\n",
      "\n",
      "Epoch: 18\n"
     ]
    },
    {
     "name": "stderr",
     "output_type": "stream",
     "text": [
      "Train loss: 0.214910: 100%|██████████| 302370/302370 [00:08<00:00, 34991.96it/s]\n"
     ]
    },
    {
     "name": "stdout",
     "output_type": "stream",
     "text": [
      "Validation loss: 0.21656702064025174\n",
      "\n",
      "Epoch: 19\n"
     ]
    },
    {
     "name": "stderr",
     "output_type": "stream",
     "text": [
      "Train loss: 0.214538: 100%|██████████| 302370/302370 [00:08<00:00, 35118.91it/s]\n"
     ]
    },
    {
     "name": "stdout",
     "output_type": "stream",
     "text": [
      "Validation loss: 0.21592460491095378\n",
      "\n",
      "Epoch: 20\n"
     ]
    },
    {
     "name": "stderr",
     "output_type": "stream",
     "text": [
      "Train loss: 0.214488: 100%|██████████| 302370/302370 [00:08<00:00, 35728.45it/s]\n"
     ]
    },
    {
     "name": "stdout",
     "output_type": "stream",
     "text": [
      "Validation loss: 0.21573561435672128\n",
      "\n",
      "Epoch: 21\n"
     ]
    },
    {
     "name": "stderr",
     "output_type": "stream",
     "text": [
      "Train loss: 0.214261: 100%|██████████| 302370/302370 [00:08<00:00, 35239.28it/s]\n"
     ]
    },
    {
     "name": "stdout",
     "output_type": "stream",
     "text": [
      "Validation loss: 0.2145756833777306\n",
      "\n",
      "Epoch: 22\n"
     ]
    },
    {
     "name": "stderr",
     "output_type": "stream",
     "text": [
      "Train loss: 0.213782: 100%|██████████| 302370/302370 [00:08<00:00, 35101.75it/s]\n"
     ]
    },
    {
     "name": "stdout",
     "output_type": "stream",
     "text": [
      "Validation loss: 0.21440297498065194\n",
      "\n",
      "Epoch: 23\n"
     ]
    },
    {
     "name": "stderr",
     "output_type": "stream",
     "text": [
      "Train loss: 0.213459: 100%|██████████| 302370/302370 [00:08<00:00, 36079.67it/s]\n"
     ]
    },
    {
     "name": "stdout",
     "output_type": "stream",
     "text": [
      "Validation loss: 0.2155130202793012\n",
      "\n",
      "Epoch: 24\n"
     ]
    },
    {
     "name": "stderr",
     "output_type": "stream",
     "text": [
      "Train loss: 0.213241: 100%|██████████| 302370/302370 [00:08<00:00, 34937.57it/s]\n"
     ]
    },
    {
     "name": "stdout",
     "output_type": "stream",
     "text": [
      "Validation loss: 0.21378974944922574\n",
      "\n",
      "Epoch: 25\n"
     ]
    },
    {
     "name": "stderr",
     "output_type": "stream",
     "text": [
      "Train loss: 0.213000: 100%|██████████| 302370/302370 [00:08<00:00, 34871.41it/s]\n"
     ]
    },
    {
     "name": "stdout",
     "output_type": "stream",
     "text": [
      "Validation loss: 0.21652254887447236\n",
      "\n",
      "Epoch: 26\n"
     ]
    },
    {
     "name": "stderr",
     "output_type": "stream",
     "text": [
      "Train loss: 0.212808: 100%|██████████| 302370/302370 [00:08<00:00, 36365.83it/s]\n"
     ]
    },
    {
     "name": "stdout",
     "output_type": "stream",
     "text": [
      "Validation loss: 0.2128268896204651\n",
      "\n",
      "Epoch: 27\n"
     ]
    },
    {
     "name": "stderr",
     "output_type": "stream",
     "text": [
      "Train loss: 0.212753: 100%|██████████| 302370/302370 [00:08<00:00, 36243.83it/s]\n"
     ]
    },
    {
     "name": "stdout",
     "output_type": "stream",
     "text": [
      "Validation loss: 0.21328951737303642\n",
      "\n",
      "Epoch: 28\n"
     ]
    },
    {
     "name": "stderr",
     "output_type": "stream",
     "text": [
      "Train loss: 0.212622: 100%|██████████| 302370/302370 [00:08<00:00, 34684.41it/s]\n"
     ]
    },
    {
     "name": "stdout",
     "output_type": "stream",
     "text": [
      "Validation loss: 0.21487460305356676\n",
      "\n",
      "Epoch: 29\n"
     ]
    },
    {
     "name": "stderr",
     "output_type": "stream",
     "text": [
      "Train loss: 0.212328: 100%|██████████| 302370/302370 [00:08<00:00, 35541.26it/s]\n"
     ]
    },
    {
     "name": "stdout",
     "output_type": "stream",
     "text": [
      "Validation loss: 0.21621498130499178\n",
      "\n",
      "Epoch: 30\n"
     ]
    },
    {
     "name": "stderr",
     "output_type": "stream",
     "text": [
      "Train loss: 0.212485: 100%|██████████| 302370/302370 [00:08<00:00, 34700.03it/s]\n"
     ]
    },
    {
     "name": "stdout",
     "output_type": "stream",
     "text": [
      "Validation loss: 0.2144239573721673\n",
      "\n",
      "Epoch: 31\n"
     ]
    },
    {
     "name": "stderr",
     "output_type": "stream",
     "text": [
      "Train loss: 0.212097: 100%|██████████| 302370/302370 [00:08<00:00, 34908.19it/s]\n"
     ]
    },
    {
     "name": "stdout",
     "output_type": "stream",
     "text": [
      "Validation loss: 0.21500682081006894\n",
      "\n",
      "Epoch: 32\n"
     ]
    },
    {
     "name": "stderr",
     "output_type": "stream",
     "text": [
      "Train loss: 0.211932: 100%|██████████| 302370/302370 [00:08<00:00, 34522.84it/s]\n"
     ]
    },
    {
     "name": "stdout",
     "output_type": "stream",
     "text": [
      "Validation loss: 0.214299569587419\n",
      "\n",
      "Epoch: 33\n"
     ]
    },
    {
     "name": "stderr",
     "output_type": "stream",
     "text": [
      "Train loss: 0.211764: 100%|██████████| 302370/302370 [00:08<00:00, 35069.08it/s]\n"
     ]
    },
    {
     "name": "stdout",
     "output_type": "stream",
     "text": [
      "Validation loss: 0.21348874230103887\n",
      "\n",
      "Epoch: 34\n"
     ]
    },
    {
     "name": "stderr",
     "output_type": "stream",
     "text": [
      "Train loss: 0.211831: 100%|██████████| 302370/302370 [00:08<00:00, 35027.71it/s]\n"
     ]
    },
    {
     "name": "stdout",
     "output_type": "stream",
     "text": [
      "Validation loss: 0.21321087261294103\n",
      "\n",
      "Epoch: 35\n"
     ]
    },
    {
     "name": "stderr",
     "output_type": "stream",
     "text": [
      "Train loss: 0.212068: 100%|██████████| 302370/302370 [00:08<00:00, 35610.14it/s]\n"
     ]
    },
    {
     "name": "stdout",
     "output_type": "stream",
     "text": [
      "Validation loss: 0.21426012319554189\n",
      "\n",
      "Epoch: 36\n"
     ]
    },
    {
     "name": "stderr",
     "output_type": "stream",
     "text": [
      "Train loss: 0.211924: 100%|██████████| 302370/302370 [00:08<00:00, 36184.28it/s]\n"
     ]
    },
    {
     "name": "stdout",
     "output_type": "stream",
     "text": [
      "Validation loss: 0.21489502283608078\n",
      "Early stopping at epoch 36\n",
      "Loading best model state...\n"
     ]
    },
    {
     "name": "stderr",
     "output_type": "stream",
     "text": [
      "/gpfs/dust/maxwell/user/yedechit/sk_cathode/sk_cathode/classifier_models/neural_network_classifier.py:385: FutureWarning: You are using `torch.load` with `weights_only=False` (the current default value), which uses the default pickle module implicitly. It is possible to construct malicious pickle data which will execute arbitrary code during unpickling (See https://github.com/pytorch/pytorch/blob/main/SECURITY.md#untrusted-models for more details). In a future release, the default value for `weights_only` will be flipped to `True`. This limits the functions that could be executed during unpickling. Arbitrary objects will no longer be allowed to be loaded via this mode unless they are explicitly allowlisted by the user via `torch.serialization.add_safe_globals`. We recommend you start setting `weights_only=True` for any use case where you don't have full control of the loaded file. Please open an issue on GitHub for any issues related to this experimental feature.\n",
      "  self.model.load_state_dict(torch.load(model_path,\n"
     ]
    }
   ],
   "source": [
    "# either train new NN classifiers to distinguish between signal and background\n",
    "\n",
    "sup_scaler = StandardScaler()\n",
    "sup_scaler.fit(sup_clsf_train_set[:, 1:-1])\n",
    "\n",
    "X_train = sup_scaler.transform(sup_clsf_train_set[:, 1:-1])\n",
    "y_train = sup_clsf_train_set[:, -1]\n",
    "X_val = sup_scaler.transform(sup_clsf_val_set[:, 1:-1])\n",
    "y_val = sup_clsf_val_set[:, -1]\n",
    "\n",
    "sup_model_list = []\n",
    "for i in range(10):\n",
    "    _classifier_savedir = f\"./trained_classifiers_supervised_{i}/\"     \n",
    "    sup_model_list.append(NeuralNetworkClassifier(save_path=_classifier_savedir,\n",
    "                                                  n_inputs=X_train.shape[1],\n",
    "                                                  early_stopping=True, epochs=None,\n",
    "                                                  verbose=True))\n",
    "\n",
    "    # We don't want to overwrite the model if it already exists.\n",
    "    if not exists(join(_classifier_savedir, \"CLSF_models\")):\n",
    "        sup_model_list[-1].fit(X_train, y_train, X_val, y_val)\n",
    "    else:\n",
    "        print(f\"The model exists already in {_classifier_savedir}. Remove first if you want to overwrite. Loading its best state now.\")\n",
    "        sup_model_list[-1].load_best_model()"
   ]
  },
  {
   "cell_type": "code",
   "execution_count": 44,
   "metadata": {},
   "outputs": [
    {
     "name": "stderr",
     "output_type": "stream",
     "text": [
      "/gpfs/dust/maxwell/user/yedechit/sk_cathode/sk_cathode/classifier_models/neural_network_classifier.py:385: FutureWarning: You are using `torch.load` with `weights_only=False` (the current default value), which uses the default pickle module implicitly. It is possible to construct malicious pickle data which will execute arbitrary code during unpickling (See https://github.com/pytorch/pytorch/blob/main/SECURITY.md#untrusted-models for more details). In a future release, the default value for `weights_only` will be flipped to `True`. This limits the functions that could be executed during unpickling. Arbitrary objects will no longer be allowed to be loaded via this mode unless they are explicitly allowlisted by the user via `torch.serialization.add_safe_globals`. We recommend you start setting `weights_only=True` for any use case where you don't have full control of the loaded file. Please open an issue on GitHub for any issues related to this experimental feature.\n",
      "  self.model.load_state_dict(torch.load(model_path,\n"
     ]
    }
   ],
   "source": [
    "# or alternatively load existing classifer models\n",
    "\n",
    "sup_scaler = StandardScaler()\n",
    "sup_scaler.fit(sup_clsf_train_set[:, 1:-1])\n",
    "\n",
    "sup_model_list = []\n",
    "for i in range(10):\n",
    "    _classifier_savedir = f\"./trained_classifiers_supervised_{i}/\"     \n",
    "    sup_model_list.append(NeuralNetworkClassifier(save_path=_classifier_savedir,\n",
    "                                                  n_inputs=sup_clsf_train_set[:, 1:-1].shape[1],\n",
    "                                                  load=True))"
   ]
  },
  {
   "cell_type": "code",
   "execution_count": 45,
   "metadata": {},
   "outputs": [
    {
     "name": "stdout",
     "output_type": "stream",
     "text": [
      "The model exists already in ./trained_classifiers_idealized-ad_0/. Remove first if you want to overwrite. Loading its best state now.\n"
     ]
    },
    {
     "name": "stderr",
     "output_type": "stream",
     "text": [
      "/gpfs/dust/maxwell/user/yedechit/sk_cathode/sk_cathode/classifier_models/neural_network_classifier.py:385: FutureWarning: You are using `torch.load` with `weights_only=False` (the current default value), which uses the default pickle module implicitly. It is possible to construct malicious pickle data which will execute arbitrary code during unpickling (See https://github.com/pytorch/pytorch/blob/main/SECURITY.md#untrusted-models for more details). In a future release, the default value for `weights_only` will be flipped to `True`. This limits the functions that could be executed during unpickling. Arbitrary objects will no longer be allowed to be loaded via this mode unless they are explicitly allowlisted by the user via `torch.serialization.add_safe_globals`. We recommend you start setting `weights_only=True` for any use case where you don't have full control of the loaded file. Please open an issue on GitHub for any issues related to this experimental feature.\n",
      "  self.model.load_state_dict(torch.load(model_path,\n"
     ]
    },
    {
     "name": "stdout",
     "output_type": "stream",
     "text": [
      "\n",
      "Epoch: 0\n"
     ]
    },
    {
     "name": "stderr",
     "output_type": "stream",
     "text": [
      "Train loss: 0.693290: 100%|██████████| 261375/261375 [00:07<00:00, 34938.51it/s]\n"
     ]
    },
    {
     "name": "stdout",
     "output_type": "stream",
     "text": [
      "Validation loss: 0.6932465647949891\n",
      "\n",
      "Epoch: 1\n"
     ]
    },
    {
     "name": "stderr",
     "output_type": "stream",
     "text": [
      "Train loss: 0.693165: 100%|██████████| 261375/261375 [00:07<00:00, 36493.59it/s]\n"
     ]
    },
    {
     "name": "stdout",
     "output_type": "stream",
     "text": [
      "Validation loss: 0.693160787663039\n",
      "\n",
      "Epoch: 2\n"
     ]
    },
    {
     "name": "stderr",
     "output_type": "stream",
     "text": [
      "Train loss: 0.693124: 100%|██████████| 261375/261375 [00:07<00:00, 35966.68it/s]\n"
     ]
    },
    {
     "name": "stdout",
     "output_type": "stream",
     "text": [
      "Validation loss: 0.6929650159443126\n",
      "\n",
      "Epoch: 3\n"
     ]
    },
    {
     "name": "stderr",
     "output_type": "stream",
     "text": [
      "Train loss: 0.693076: 100%|██████████| 261375/261375 [00:07<00:00, 35851.53it/s]\n"
     ]
    },
    {
     "name": "stdout",
     "output_type": "stream",
     "text": [
      "Validation loss: 0.6929827752358774\n",
      "\n",
      "Epoch: 4\n"
     ]
    },
    {
     "name": "stderr",
     "output_type": "stream",
     "text": [
      "Train loss: 0.693024: 100%|██████████| 261375/261375 [00:07<00:00, 33702.63it/s]\n"
     ]
    },
    {
     "name": "stdout",
     "output_type": "stream",
     "text": [
      "Validation loss: 0.6928632737082594\n",
      "\n",
      "Epoch: 5\n"
     ]
    },
    {
     "name": "stderr",
     "output_type": "stream",
     "text": [
      "Train loss: 0.692920: 100%|██████████| 261375/261375 [00:07<00:00, 35129.69it/s]\n"
     ]
    },
    {
     "name": "stdout",
     "output_type": "stream",
     "text": [
      "Validation loss: 0.6926605491077199\n",
      "\n",
      "Epoch: 6\n"
     ]
    },
    {
     "name": "stderr",
     "output_type": "stream",
     "text": [
      "Train loss: 0.692869: 100%|██████████| 261375/261375 [00:07<00:00, 36174.74it/s]\n"
     ]
    },
    {
     "name": "stdout",
     "output_type": "stream",
     "text": [
      "Validation loss: 0.693127177568043\n",
      "\n",
      "Epoch: 7\n"
     ]
    },
    {
     "name": "stderr",
     "output_type": "stream",
     "text": [
      "Train loss: 0.692803: 100%|██████████| 261375/261375 [00:07<00:00, 36034.16it/s]\n"
     ]
    },
    {
     "name": "stdout",
     "output_type": "stream",
     "text": [
      "Validation loss: 0.6930008173865431\n",
      "\n",
      "Epoch: 8\n"
     ]
    },
    {
     "name": "stderr",
     "output_type": "stream",
     "text": [
      "Train loss: 0.692730: 100%|██████████| 261375/261375 [00:07<00:00, 35444.71it/s]\n"
     ]
    },
    {
     "name": "stdout",
     "output_type": "stream",
     "text": [
      "Validation loss: 0.6928926216328846\n",
      "\n",
      "Epoch: 9\n"
     ]
    },
    {
     "name": "stderr",
     "output_type": "stream",
     "text": [
      "Train loss: 0.692778: 100%|██████████| 261375/261375 [00:07<00:00, 35545.64it/s]\n"
     ]
    },
    {
     "name": "stdout",
     "output_type": "stream",
     "text": [
      "Validation loss: 0.6925024168456302\n",
      "\n",
      "Epoch: 10\n"
     ]
    },
    {
     "name": "stderr",
     "output_type": "stream",
     "text": [
      "Train loss: 0.692718: 100%|██████████| 261375/261375 [00:07<00:00, 35646.73it/s]\n"
     ]
    },
    {
     "name": "stdout",
     "output_type": "stream",
     "text": [
      "Validation loss: 0.6926543984343024\n",
      "\n",
      "Epoch: 11\n"
     ]
    },
    {
     "name": "stderr",
     "output_type": "stream",
     "text": [
      "Train loss: 0.692723: 100%|██████████| 261375/261375 [00:07<00:00, 34976.23it/s]\n"
     ]
    },
    {
     "name": "stdout",
     "output_type": "stream",
     "text": [
      "Validation loss: 0.6926642690511311\n",
      "\n",
      "Epoch: 12\n"
     ]
    },
    {
     "name": "stderr",
     "output_type": "stream",
     "text": [
      "Train loss: 0.692698: 100%|██████████| 261375/261375 [00:07<00:00, 36149.04it/s]\n"
     ]
    },
    {
     "name": "stdout",
     "output_type": "stream",
     "text": [
      "Validation loss: 0.6926616049864713\n",
      "\n",
      "Epoch: 13\n"
     ]
    },
    {
     "name": "stderr",
     "output_type": "stream",
     "text": [
      "Train loss: 0.692722: 100%|██████████| 261375/261375 [00:07<00:00, 34597.81it/s]\n"
     ]
    },
    {
     "name": "stdout",
     "output_type": "stream",
     "text": [
      "Validation loss: 0.692728954641258\n",
      "\n",
      "Epoch: 14\n"
     ]
    },
    {
     "name": "stderr",
     "output_type": "stream",
     "text": [
      "Train loss: 0.692690: 100%|██████████| 261375/261375 [00:07<00:00, 35516.20it/s]\n"
     ]
    },
    {
     "name": "stdout",
     "output_type": "stream",
     "text": [
      "Validation loss: 0.6926957409171497\n",
      "\n",
      "Epoch: 15\n"
     ]
    },
    {
     "name": "stderr",
     "output_type": "stream",
     "text": [
      "Train loss: 0.692700: 100%|██████████| 261375/261375 [00:07<00:00, 35375.42it/s]\n"
     ]
    },
    {
     "name": "stdout",
     "output_type": "stream",
     "text": [
      "Validation loss: 0.692441497480168\n",
      "\n",
      "Epoch: 16\n"
     ]
    },
    {
     "name": "stderr",
     "output_type": "stream",
     "text": [
      "Train loss: 0.692675: 100%|██████████| 261375/261375 [00:07<00:00, 35076.15it/s]\n"
     ]
    },
    {
     "name": "stdout",
     "output_type": "stream",
     "text": [
      "Validation loss: 0.6927657368428567\n",
      "\n",
      "Epoch: 17\n"
     ]
    },
    {
     "name": "stderr",
     "output_type": "stream",
     "text": [
      "Train loss: 0.692623: 100%|██████████| 261375/261375 [00:07<00:00, 35762.55it/s]\n"
     ]
    },
    {
     "name": "stdout",
     "output_type": "stream",
     "text": [
      "Validation loss: 0.6926479306291131\n",
      "\n",
      "Epoch: 18\n"
     ]
    },
    {
     "name": "stderr",
     "output_type": "stream",
     "text": [
      "Train loss: 0.692648: 100%|██████████| 261375/261375 [00:07<00:00, 32785.11it/s]\n"
     ]
    },
    {
     "name": "stdout",
     "output_type": "stream",
     "text": [
      "Validation loss: 0.692645827023422\n",
      "\n",
      "Epoch: 19\n"
     ]
    },
    {
     "name": "stderr",
     "output_type": "stream",
     "text": [
      "Train loss: 0.692623: 100%|██████████| 261375/261375 [00:07<00:00, 34060.72it/s]\n"
     ]
    },
    {
     "name": "stdout",
     "output_type": "stream",
     "text": [
      "Validation loss: 0.6925895014229942\n",
      "\n",
      "Epoch: 20\n"
     ]
    },
    {
     "name": "stderr",
     "output_type": "stream",
     "text": [
      "Train loss: 0.692612: 100%|██████████| 261375/261375 [00:07<00:00, 33780.34it/s]\n"
     ]
    },
    {
     "name": "stdout",
     "output_type": "stream",
     "text": [
      "Validation loss: 0.6925774636514047\n",
      "\n",
      "Epoch: 21\n"
     ]
    },
    {
     "name": "stderr",
     "output_type": "stream",
     "text": [
      "Train loss: 0.692590: 100%|██████████| 261375/261375 [00:07<00:00, 34601.00it/s]\n"
     ]
    },
    {
     "name": "stdout",
     "output_type": "stream",
     "text": [
      "Validation loss: 0.6927431610577247\n",
      "\n",
      "Epoch: 22\n"
     ]
    },
    {
     "name": "stderr",
     "output_type": "stream",
     "text": [
      "Train loss: 0.692556: 100%|██████████| 261375/261375 [00:07<00:00, 32893.20it/s]\n"
     ]
    },
    {
     "name": "stdout",
     "output_type": "stream",
     "text": [
      "Validation loss: 0.6930552603567348\n",
      "\n",
      "Epoch: 23\n"
     ]
    },
    {
     "name": "stderr",
     "output_type": "stream",
     "text": [
      "Train loss: 0.692542: 100%|██████████| 261375/261375 [00:08<00:00, 31437.20it/s]\n"
     ]
    },
    {
     "name": "stdout",
     "output_type": "stream",
     "text": [
      "Validation loss: 0.6928190236582475\n",
      "\n",
      "Epoch: 24\n"
     ]
    },
    {
     "name": "stderr",
     "output_type": "stream",
     "text": [
      "Train loss: 0.692531: 100%|██████████| 261375/261375 [00:07<00:00, 33843.68it/s]\n"
     ]
    },
    {
     "name": "stdout",
     "output_type": "stream",
     "text": [
      "Validation loss: 0.6926413490491755\n",
      "\n",
      "Epoch: 25\n"
     ]
    },
    {
     "name": "stderr",
     "output_type": "stream",
     "text": [
      "Train loss: 0.692517: 100%|██████████| 261375/261375 [00:07<00:00, 32705.47it/s]\n",
      "/gpfs/dust/maxwell/user/yedechit/sk_cathode/sk_cathode/classifier_models/neural_network_classifier.py:385: FutureWarning: You are using `torch.load` with `weights_only=False` (the current default value), which uses the default pickle module implicitly. It is possible to construct malicious pickle data which will execute arbitrary code during unpickling (See https://github.com/pytorch/pytorch/blob/main/SECURITY.md#untrusted-models for more details). In a future release, the default value for `weights_only` will be flipped to `True`. This limits the functions that could be executed during unpickling. Arbitrary objects will no longer be allowed to be loaded via this mode unless they are explicitly allowlisted by the user via `torch.serialization.add_safe_globals`. We recommend you start setting `weights_only=True` for any use case where you don't have full control of the loaded file. Please open an issue on GitHub for any issues related to this experimental feature.\n",
      "  self.model.load_state_dict(torch.load(model_path,\n"
     ]
    },
    {
     "name": "stdout",
     "output_type": "stream",
     "text": [
      "Validation loss: 0.6927721761605319\n",
      "Early stopping at epoch 25\n",
      "Loading best model state...\n",
      "\n",
      "Epoch: 0\n"
     ]
    },
    {
     "name": "stderr",
     "output_type": "stream",
     "text": [
      "Train loss: 0.693283: 100%|██████████| 261375/261375 [00:07<00:00, 33817.23it/s]\n"
     ]
    },
    {
     "name": "stdout",
     "output_type": "stream",
     "text": [
      "Validation loss: 0.6932485227199162\n",
      "\n",
      "Epoch: 1\n"
     ]
    },
    {
     "name": "stderr",
     "output_type": "stream",
     "text": [
      "Train loss: 0.693151: 100%|██████████| 261375/261375 [00:07<00:00, 33394.88it/s]\n"
     ]
    },
    {
     "name": "stdout",
     "output_type": "stream",
     "text": [
      "Validation loss: 0.6930646146045012\n",
      "\n",
      "Epoch: 2\n"
     ]
    },
    {
     "name": "stderr",
     "output_type": "stream",
     "text": [
      "Train loss: 0.693134: 100%|██████████| 261375/261375 [00:07<00:00, 33475.44it/s]\n"
     ]
    },
    {
     "name": "stdout",
     "output_type": "stream",
     "text": [
      "Validation loss: 0.6933045166380265\n",
      "\n",
      "Epoch: 3\n"
     ]
    },
    {
     "name": "stderr",
     "output_type": "stream",
     "text": [
      "Train loss: 0.693092: 100%|██████████| 261375/261375 [00:08<00:00, 32159.23it/s]\n"
     ]
    },
    {
     "name": "stdout",
     "output_type": "stream",
     "text": [
      "Validation loss: 0.6933410181718714\n",
      "\n",
      "Epoch: 4\n"
     ]
    },
    {
     "name": "stderr",
     "output_type": "stream",
     "text": [
      "Train loss: 0.693078: 100%|██████████| 261375/261375 [00:07<00:00, 34307.71it/s]\n"
     ]
    },
    {
     "name": "stdout",
     "output_type": "stream",
     "text": [
      "Validation loss: 0.6930360227823258\n",
      "\n",
      "Epoch: 5\n"
     ]
    },
    {
     "name": "stderr",
     "output_type": "stream",
     "text": [
      "Train loss: 0.693026: 100%|██████████| 261375/261375 [00:08<00:00, 32575.37it/s]\n"
     ]
    },
    {
     "name": "stdout",
     "output_type": "stream",
     "text": [
      "Validation loss: 0.6927402759299559\n",
      "\n",
      "Epoch: 6\n"
     ]
    },
    {
     "name": "stderr",
     "output_type": "stream",
     "text": [
      "Train loss: 0.693006: 100%|██████████| 261375/261375 [00:07<00:00, 33896.74it/s]\n"
     ]
    },
    {
     "name": "stdout",
     "output_type": "stream",
     "text": [
      "Validation loss: 0.6928152584854295\n",
      "\n",
      "Epoch: 7\n"
     ]
    },
    {
     "name": "stderr",
     "output_type": "stream",
     "text": [
      "Train loss: 0.692946: 100%|██████████| 261375/261375 [00:07<00:00, 33437.53it/s]\n"
     ]
    },
    {
     "name": "stdout",
     "output_type": "stream",
     "text": [
      "Validation loss: 0.6929691286648021\n",
      "\n",
      "Epoch: 8\n"
     ]
    },
    {
     "name": "stderr",
     "output_type": "stream",
     "text": [
      "Train loss: 0.692892: 100%|██████████| 261375/261375 [00:07<00:00, 33208.46it/s]\n"
     ]
    },
    {
     "name": "stdout",
     "output_type": "stream",
     "text": [
      "Validation loss: 0.692653458258685\n",
      "\n",
      "Epoch: 9\n"
     ]
    },
    {
     "name": "stderr",
     "output_type": "stream",
     "text": [
      "Train loss: 0.692881: 100%|██████████| 261375/261375 [00:07<00:00, 33489.46it/s]\n"
     ]
    },
    {
     "name": "stdout",
     "output_type": "stream",
     "text": [
      "Validation loss: 0.6926949297680575\n",
      "\n",
      "Epoch: 10\n"
     ]
    },
    {
     "name": "stderr",
     "output_type": "stream",
     "text": [
      "Train loss: 0.692851: 100%|██████████| 261375/261375 [00:07<00:00, 32793.08it/s]\n"
     ]
    },
    {
     "name": "stdout",
     "output_type": "stream",
     "text": [
      "Validation loss: 0.692686310848769\n",
      "\n",
      "Epoch: 11\n"
     ]
    },
    {
     "name": "stderr",
     "output_type": "stream",
     "text": [
      "Train loss: 0.692823: 100%|██████████| 261375/261375 [00:08<00:00, 32327.25it/s]\n"
     ]
    },
    {
     "name": "stdout",
     "output_type": "stream",
     "text": [
      "Validation loss: 0.6926175681983724\n",
      "\n",
      "Epoch: 12\n"
     ]
    },
    {
     "name": "stderr",
     "output_type": "stream",
     "text": [
      "Train loss: 0.692760: 100%|██████████| 261375/261375 [00:07<00:00, 34485.24it/s]\n"
     ]
    },
    {
     "name": "stdout",
     "output_type": "stream",
     "text": [
      "Validation loss: 0.6929728107417331\n",
      "\n",
      "Epoch: 13\n"
     ]
    },
    {
     "name": "stderr",
     "output_type": "stream",
     "text": [
      "Train loss: 0.692791: 100%|██████████| 261375/261375 [00:07<00:00, 33773.31it/s]\n"
     ]
    },
    {
     "name": "stdout",
     "output_type": "stream",
     "text": [
      "Validation loss: 0.6925779510070296\n",
      "\n",
      "Epoch: 14\n"
     ]
    },
    {
     "name": "stderr",
     "output_type": "stream",
     "text": [
      "Train loss: 0.692741: 100%|██████████| 261375/261375 [00:08<00:00, 32438.22it/s]\n"
     ]
    },
    {
     "name": "stdout",
     "output_type": "stream",
     "text": [
      "Validation loss: 0.6924380036837915\n",
      "\n",
      "Epoch: 15\n"
     ]
    },
    {
     "name": "stderr",
     "output_type": "stream",
     "text": [
      "Train loss: 0.692724: 100%|██████████| 261375/261375 [00:07<00:00, 33736.77it/s]\n"
     ]
    },
    {
     "name": "stdout",
     "output_type": "stream",
     "text": [
      "Validation loss: 0.6925265267491341\n",
      "\n",
      "Epoch: 16\n"
     ]
    },
    {
     "name": "stderr",
     "output_type": "stream",
     "text": [
      "Train loss: 0.692741: 100%|██████████| 261375/261375 [00:07<00:00, 34502.22it/s]\n"
     ]
    },
    {
     "name": "stdout",
     "output_type": "stream",
     "text": [
      "Validation loss: 0.6924703662886339\n",
      "\n",
      "Epoch: 17\n"
     ]
    },
    {
     "name": "stderr",
     "output_type": "stream",
     "text": [
      "Train loss: 0.692725: 100%|██████████| 261375/261375 [00:07<00:00, 34890.70it/s]\n"
     ]
    },
    {
     "name": "stdout",
     "output_type": "stream",
     "text": [
      "Validation loss: 0.69263506207396\n",
      "\n",
      "Epoch: 18\n"
     ]
    },
    {
     "name": "stderr",
     "output_type": "stream",
     "text": [
      "Train loss: 0.692726: 100%|██████████| 261375/261375 [00:07<00:00, 34731.90it/s]\n"
     ]
    },
    {
     "name": "stdout",
     "output_type": "stream",
     "text": [
      "Validation loss: 0.6925990230896893\n",
      "\n",
      "Epoch: 19\n"
     ]
    },
    {
     "name": "stderr",
     "output_type": "stream",
     "text": [
      "Train loss: 0.692655: 100%|██████████| 261375/261375 [00:07<00:00, 34744.79it/s]\n"
     ]
    },
    {
     "name": "stdout",
     "output_type": "stream",
     "text": [
      "Validation loss: 0.6925635428113096\n",
      "\n",
      "Epoch: 20\n"
     ]
    },
    {
     "name": "stderr",
     "output_type": "stream",
     "text": [
      "Train loss: 0.692678: 100%|██████████| 261375/261375 [00:07<00:00, 35626.11it/s]\n"
     ]
    },
    {
     "name": "stdout",
     "output_type": "stream",
     "text": [
      "Validation loss: 0.6930288388448603\n",
      "\n",
      "Epoch: 21\n"
     ]
    },
    {
     "name": "stderr",
     "output_type": "stream",
     "text": [
      "Train loss: 0.692654: 100%|██████████| 261375/261375 [00:07<00:00, 34941.64it/s]\n"
     ]
    },
    {
     "name": "stdout",
     "output_type": "stream",
     "text": [
      "Validation loss: 0.6924385743106113\n",
      "\n",
      "Epoch: 22\n"
     ]
    },
    {
     "name": "stderr",
     "output_type": "stream",
     "text": [
      "Train loss: 0.692657: 100%|██████████| 261375/261375 [00:07<00:00, 34930.16it/s]\n"
     ]
    },
    {
     "name": "stdout",
     "output_type": "stream",
     "text": [
      "Validation loss: 0.6925237855490516\n",
      "\n",
      "Epoch: 23\n"
     ]
    },
    {
     "name": "stderr",
     "output_type": "stream",
     "text": [
      "Train loss: 0.692627: 100%|██████████| 261375/261375 [00:07<00:00, 35534.53it/s]\n"
     ]
    },
    {
     "name": "stdout",
     "output_type": "stream",
     "text": [
      "Validation loss: 0.6924261779469603\n",
      "\n",
      "Epoch: 24\n"
     ]
    },
    {
     "name": "stderr",
     "output_type": "stream",
     "text": [
      "Train loss: 0.692586: 100%|██████████| 261375/261375 [00:07<00:00, 34861.84it/s]\n"
     ]
    },
    {
     "name": "stdout",
     "output_type": "stream",
     "text": [
      "Validation loss: 0.6928236085702392\n",
      "\n",
      "Epoch: 25\n"
     ]
    },
    {
     "name": "stderr",
     "output_type": "stream",
     "text": [
      "Train loss: 0.692590: 100%|██████████| 261375/261375 [00:07<00:00, 35510.34it/s]\n"
     ]
    },
    {
     "name": "stdout",
     "output_type": "stream",
     "text": [
      "Validation loss: 0.692569957410588\n",
      "\n",
      "Epoch: 26\n"
     ]
    },
    {
     "name": "stderr",
     "output_type": "stream",
     "text": [
      "Train loss: 0.692573: 100%|██████████| 261375/261375 [00:08<00:00, 31562.41it/s]\n"
     ]
    },
    {
     "name": "stdout",
     "output_type": "stream",
     "text": [
      "Validation loss: 0.6923863199703834\n",
      "\n",
      "Epoch: 27\n"
     ]
    },
    {
     "name": "stderr",
     "output_type": "stream",
     "text": [
      "Train loss: 0.692594: 100%|██████████| 261375/261375 [00:09<00:00, 28165.35it/s]\n"
     ]
    },
    {
     "name": "stdout",
     "output_type": "stream",
     "text": [
      "Validation loss: 0.6928728726856849\n",
      "\n",
      "Epoch: 28\n"
     ]
    },
    {
     "name": "stderr",
     "output_type": "stream",
     "text": [
      "Train loss: 0.692587: 100%|██████████| 261375/261375 [00:09<00:00, 28142.47it/s]\n"
     ]
    },
    {
     "name": "stdout",
     "output_type": "stream",
     "text": [
      "Validation loss: 0.6926110328120344\n",
      "\n",
      "Epoch: 29\n"
     ]
    },
    {
     "name": "stderr",
     "output_type": "stream",
     "text": [
      "Train loss: 0.692594: 100%|██████████| 261375/261375 [00:09<00:00, 28447.98it/s]\n"
     ]
    },
    {
     "name": "stdout",
     "output_type": "stream",
     "text": [
      "Validation loss: 0.692676213909598\n",
      "\n",
      "Epoch: 30\n"
     ]
    },
    {
     "name": "stderr",
     "output_type": "stream",
     "text": [
      "Train loss: 0.692520: 100%|██████████| 261375/261375 [00:09<00:00, 27063.09it/s]\n"
     ]
    },
    {
     "name": "stdout",
     "output_type": "stream",
     "text": [
      "Validation loss: 0.6928487272823558\n",
      "\n",
      "Epoch: 31\n"
     ]
    },
    {
     "name": "stderr",
     "output_type": "stream",
     "text": [
      "Train loss: 0.692549: 100%|██████████| 261375/261375 [00:09<00:00, 28299.14it/s]\n"
     ]
    },
    {
     "name": "stdout",
     "output_type": "stream",
     "text": [
      "Validation loss: 0.6931709558648221\n",
      "\n",
      "Epoch: 32\n"
     ]
    },
    {
     "name": "stderr",
     "output_type": "stream",
     "text": [
      "Train loss: 0.692497: 100%|██████████| 261375/261375 [00:08<00:00, 29220.65it/s]\n"
     ]
    },
    {
     "name": "stdout",
     "output_type": "stream",
     "text": [
      "Validation loss: 0.6924864517415271\n",
      "\n",
      "Epoch: 33\n"
     ]
    },
    {
     "name": "stderr",
     "output_type": "stream",
     "text": [
      "Train loss: 0.692472: 100%|██████████| 261375/261375 [00:09<00:00, 28677.04it/s]\n"
     ]
    },
    {
     "name": "stdout",
     "output_type": "stream",
     "text": [
      "Validation loss: 0.6926569524056772\n",
      "\n",
      "Epoch: 34\n"
     ]
    },
    {
     "name": "stderr",
     "output_type": "stream",
     "text": [
      "Train loss: 0.692490: 100%|██████████| 261375/261375 [00:09<00:00, 27283.72it/s]\n"
     ]
    },
    {
     "name": "stdout",
     "output_type": "stream",
     "text": [
      "Validation loss: 0.6926566791885039\n",
      "\n",
      "Epoch: 35\n"
     ]
    },
    {
     "name": "stderr",
     "output_type": "stream",
     "text": [
      "Train loss: 0.692498: 100%|██████████| 261375/261375 [00:09<00:00, 28525.85it/s]\n"
     ]
    },
    {
     "name": "stdout",
     "output_type": "stream",
     "text": [
      "Validation loss: 0.6926644853809301\n",
      "\n",
      "Epoch: 36\n"
     ]
    },
    {
     "name": "stderr",
     "output_type": "stream",
     "text": [
      "Train loss: 0.692466: 100%|██████████| 261375/261375 [00:09<00:00, 28607.84it/s]\n",
      "/gpfs/dust/maxwell/user/yedechit/sk_cathode/sk_cathode/classifier_models/neural_network_classifier.py:385: FutureWarning: You are using `torch.load` with `weights_only=False` (the current default value), which uses the default pickle module implicitly. It is possible to construct malicious pickle data which will execute arbitrary code during unpickling (See https://github.com/pytorch/pytorch/blob/main/SECURITY.md#untrusted-models for more details). In a future release, the default value for `weights_only` will be flipped to `True`. This limits the functions that could be executed during unpickling. Arbitrary objects will no longer be allowed to be loaded via this mode unless they are explicitly allowlisted by the user via `torch.serialization.add_safe_globals`. We recommend you start setting `weights_only=True` for any use case where you don't have full control of the loaded file. Please open an issue on GitHub for any issues related to this experimental feature.\n",
      "  self.model.load_state_dict(torch.load(model_path,\n"
     ]
    },
    {
     "name": "stdout",
     "output_type": "stream",
     "text": [
      "Validation loss: 0.6925533627762513\n",
      "Early stopping at epoch 36\n",
      "Loading best model state...\n",
      "\n",
      "Epoch: 0\n"
     ]
    },
    {
     "name": "stderr",
     "output_type": "stream",
     "text": [
      "Train loss: 0.693250: 100%|██████████| 261375/261375 [00:07<00:00, 33777.06it/s]\n"
     ]
    },
    {
     "name": "stdout",
     "output_type": "stream",
     "text": [
      "Validation loss: 0.6933463939849068\n",
      "\n",
      "Epoch: 1\n"
     ]
    },
    {
     "name": "stderr",
     "output_type": "stream",
     "text": [
      "Train loss: 0.693147: 100%|██████████| 261375/261375 [00:07<00:00, 35082.14it/s]\n"
     ]
    },
    {
     "name": "stdout",
     "output_type": "stream",
     "text": [
      "Validation loss: 0.6931082036565331\n",
      "\n",
      "Epoch: 2\n"
     ]
    },
    {
     "name": "stderr",
     "output_type": "stream",
     "text": [
      "Train loss: 0.693174: 100%|██████████| 261375/261375 [00:07<00:00, 35145.51it/s]\n"
     ]
    },
    {
     "name": "stdout",
     "output_type": "stream",
     "text": [
      "Validation loss: 0.6931486838880707\n",
      "\n",
      "Epoch: 3\n"
     ]
    },
    {
     "name": "stderr",
     "output_type": "stream",
     "text": [
      "Train loss: 0.693095: 100%|██████████| 261375/261375 [00:07<00:00, 35488.18it/s]\n"
     ]
    },
    {
     "name": "stdout",
     "output_type": "stream",
     "text": [
      "Validation loss: 0.6931219842504053\n",
      "\n",
      "Epoch: 4\n"
     ]
    },
    {
     "name": "stderr",
     "output_type": "stream",
     "text": [
      "Train loss: 0.693072: 100%|██████████| 261375/261375 [00:07<00:00, 35679.93it/s]\n"
     ]
    },
    {
     "name": "stdout",
     "output_type": "stream",
     "text": [
      "Validation loss: 0.6930824405130218\n",
      "\n",
      "Epoch: 5\n"
     ]
    },
    {
     "name": "stderr",
     "output_type": "stream",
     "text": [
      "Train loss: 0.693039: 100%|██████████| 261375/261375 [00:07<00:00, 36046.19it/s]\n"
     ]
    },
    {
     "name": "stdout",
     "output_type": "stream",
     "text": [
      "Validation loss: 0.692966554357725\n",
      "\n",
      "Epoch: 6\n"
     ]
    },
    {
     "name": "stderr",
     "output_type": "stream",
     "text": [
      "Train loss: 0.692979: 100%|██████████| 261375/261375 [00:07<00:00, 35180.29it/s]\n"
     ]
    },
    {
     "name": "stdout",
     "output_type": "stream",
     "text": [
      "Validation loss: 0.6932936741148724\n",
      "\n",
      "Epoch: 7\n"
     ]
    },
    {
     "name": "stderr",
     "output_type": "stream",
     "text": [
      "Train loss: 0.692962: 100%|██████████| 261375/261375 [00:07<00:00, 35635.66it/s]\n"
     ]
    },
    {
     "name": "stdout",
     "output_type": "stream",
     "text": [
      "Validation loss: 0.692669511279639\n",
      "\n",
      "Epoch: 8\n"
     ]
    },
    {
     "name": "stderr",
     "output_type": "stream",
     "text": [
      "Train loss: 0.692878: 100%|██████████| 261375/261375 [00:07<00:00, 36082.64it/s]\n"
     ]
    },
    {
     "name": "stdout",
     "output_type": "stream",
     "text": [
      "Validation loss: 0.6928646873901873\n",
      "\n",
      "Epoch: 9\n"
     ]
    },
    {
     "name": "stderr",
     "output_type": "stream",
     "text": [
      "Train loss: 0.692887: 100%|██████████| 261375/261375 [00:07<00:00, 36099.05it/s]\n"
     ]
    },
    {
     "name": "stdout",
     "output_type": "stream",
     "text": [
      "Validation loss: 0.6928713733659071\n",
      "\n",
      "Epoch: 10\n"
     ]
    },
    {
     "name": "stderr",
     "output_type": "stream",
     "text": [
      "Train loss: 0.692845: 100%|██████████| 261375/261375 [00:07<00:00, 35391.58it/s]\n"
     ]
    },
    {
     "name": "stdout",
     "output_type": "stream",
     "text": [
      "Validation loss: 0.6927328725948053\n",
      "\n",
      "Epoch: 11\n"
     ]
    },
    {
     "name": "stderr",
     "output_type": "stream",
     "text": [
      "Train loss: 0.692820: 100%|██████████| 261375/261375 [00:07<00:00, 34823.56it/s]\n"
     ]
    },
    {
     "name": "stdout",
     "output_type": "stream",
     "text": [
      "Validation loss: 0.6927691705086652\n",
      "\n",
      "Epoch: 12\n"
     ]
    },
    {
     "name": "stderr",
     "output_type": "stream",
     "text": [
      "Train loss: 0.692808: 100%|██████████| 261375/261375 [00:07<00:00, 36186.14it/s]\n"
     ]
    },
    {
     "name": "stdout",
     "output_type": "stream",
     "text": [
      "Validation loss: 0.6925647264017778\n",
      "\n",
      "Epoch: 13\n"
     ]
    },
    {
     "name": "stderr",
     "output_type": "stream",
     "text": [
      "Train loss: 0.692752: 100%|██████████| 261375/261375 [00:07<00:00, 35806.97it/s]\n"
     ]
    },
    {
     "name": "stdout",
     "output_type": "stream",
     "text": [
      "Validation loss: 0.6926742885919178\n",
      "\n",
      "Epoch: 14\n"
     ]
    },
    {
     "name": "stderr",
     "output_type": "stream",
     "text": [
      "Train loss: 0.692747: 100%|██████████| 261375/261375 [00:07<00:00, 36188.29it/s]\n"
     ]
    },
    {
     "name": "stdout",
     "output_type": "stream",
     "text": [
      "Validation loss: 0.692869437003837\n",
      "\n",
      "Epoch: 15\n"
     ]
    },
    {
     "name": "stderr",
     "output_type": "stream",
     "text": [
      "Train loss: 0.692744: 100%|██████████| 261375/261375 [00:07<00:00, 35657.05it/s]\n"
     ]
    },
    {
     "name": "stdout",
     "output_type": "stream",
     "text": [
      "Validation loss: 0.6927370938308098\n",
      "\n",
      "Epoch: 16\n"
     ]
    },
    {
     "name": "stderr",
     "output_type": "stream",
     "text": [
      "Train loss: 0.692729: 100%|██████████| 261375/261375 [00:07<00:00, 35936.81it/s]\n"
     ]
    },
    {
     "name": "stdout",
     "output_type": "stream",
     "text": [
      "Validation loss: 0.6923572472789709\n",
      "\n",
      "Epoch: 17\n"
     ]
    },
    {
     "name": "stderr",
     "output_type": "stream",
     "text": [
      "Train loss: 0.692735: 100%|██████████| 261375/261375 [00:07<00:00, 35346.26it/s]\n"
     ]
    },
    {
     "name": "stdout",
     "output_type": "stream",
     "text": [
      "Validation loss: 0.6926900683956988\n",
      "\n",
      "Epoch: 18\n"
     ]
    },
    {
     "name": "stderr",
     "output_type": "stream",
     "text": [
      "Train loss: 0.692700: 100%|██████████| 261375/261375 [00:07<00:00, 35727.91it/s]\n"
     ]
    },
    {
     "name": "stdout",
     "output_type": "stream",
     "text": [
      "Validation loss: 0.692942308327731\n",
      "\n",
      "Epoch: 19\n"
     ]
    },
    {
     "name": "stderr",
     "output_type": "stream",
     "text": [
      "Train loss: 0.692701: 100%|██████████| 261375/261375 [00:07<00:00, 35507.47it/s]\n"
     ]
    },
    {
     "name": "stdout",
     "output_type": "stream",
     "text": [
      "Validation loss: 0.6926599410526892\n",
      "\n",
      "Epoch: 20\n"
     ]
    },
    {
     "name": "stderr",
     "output_type": "stream",
     "text": [
      "Train loss: 0.692711: 100%|██████████| 261375/261375 [00:07<00:00, 35483.78it/s]\n"
     ]
    },
    {
     "name": "stdout",
     "output_type": "stream",
     "text": [
      "Validation loss: 0.6928996415699229\n",
      "\n",
      "Epoch: 21\n"
     ]
    },
    {
     "name": "stderr",
     "output_type": "stream",
     "text": [
      "Train loss: 0.692671: 100%|██████████| 261375/261375 [00:07<00:00, 35448.43it/s]\n"
     ]
    },
    {
     "name": "stdout",
     "output_type": "stream",
     "text": [
      "Validation loss: 0.6931835881927434\n",
      "\n",
      "Epoch: 22\n"
     ]
    },
    {
     "name": "stderr",
     "output_type": "stream",
     "text": [
      "Train loss: 0.692667: 100%|██████████| 261375/261375 [00:07<00:00, 35437.72it/s]\n"
     ]
    },
    {
     "name": "stdout",
     "output_type": "stream",
     "text": [
      "Validation loss: 0.6929091704242369\n",
      "\n",
      "Epoch: 23\n"
     ]
    },
    {
     "name": "stderr",
     "output_type": "stream",
     "text": [
      "Train loss: 0.692658: 100%|██████████| 261375/261375 [00:07<00:00, 36412.47it/s]\n"
     ]
    },
    {
     "name": "stdout",
     "output_type": "stream",
     "text": [
      "Validation loss: 0.692682803904309\n",
      "\n",
      "Epoch: 24\n"
     ]
    },
    {
     "name": "stderr",
     "output_type": "stream",
     "text": [
      "Train loss: 0.692659: 100%|██████████| 261375/261375 [00:07<00:00, 36295.13it/s]\n"
     ]
    },
    {
     "name": "stdout",
     "output_type": "stream",
     "text": [
      "Validation loss: 0.6926913503338309\n",
      "\n",
      "Epoch: 25\n"
     ]
    },
    {
     "name": "stderr",
     "output_type": "stream",
     "text": [
      "Train loss: 0.692650: 100%|██████████| 261375/261375 [00:07<00:00, 36194.48it/s]\n"
     ]
    },
    {
     "name": "stdout",
     "output_type": "stream",
     "text": [
      "Validation loss: 0.6925820280523861\n",
      "\n",
      "Epoch: 26\n"
     ]
    },
    {
     "name": "stderr",
     "output_type": "stream",
     "text": [
      "Train loss: 0.692605: 100%|██████████| 261375/261375 [00:07<00:00, 36442.96it/s]\n",
      "/gpfs/dust/maxwell/user/yedechit/sk_cathode/sk_cathode/classifier_models/neural_network_classifier.py:385: FutureWarning: You are using `torch.load` with `weights_only=False` (the current default value), which uses the default pickle module implicitly. It is possible to construct malicious pickle data which will execute arbitrary code during unpickling (See https://github.com/pytorch/pytorch/blob/main/SECURITY.md#untrusted-models for more details). In a future release, the default value for `weights_only` will be flipped to `True`. This limits the functions that could be executed during unpickling. Arbitrary objects will no longer be allowed to be loaded via this mode unless they are explicitly allowlisted by the user via `torch.serialization.add_safe_globals`. We recommend you start setting `weights_only=True` for any use case where you don't have full control of the loaded file. Please open an issue on GitHub for any issues related to this experimental feature.\n",
      "  self.model.load_state_dict(torch.load(model_path,\n"
     ]
    },
    {
     "name": "stdout",
     "output_type": "stream",
     "text": [
      "Validation loss: 0.6927722435663728\n",
      "Early stopping at epoch 26\n",
      "Loading best model state...\n",
      "\n",
      "Epoch: 0\n"
     ]
    },
    {
     "name": "stderr",
     "output_type": "stream",
     "text": [
      "Train loss: 0.693294: 100%|██████████| 261375/261375 [00:07<00:00, 36442.69it/s]\n"
     ]
    },
    {
     "name": "stdout",
     "output_type": "stream",
     "text": [
      "Validation loss: 0.6933094909085947\n",
      "\n",
      "Epoch: 1\n"
     ]
    },
    {
     "name": "stderr",
     "output_type": "stream",
     "text": [
      "Train loss: 0.693179: 100%|██████████| 261375/261375 [00:07<00:00, 35552.99it/s]\n"
     ]
    },
    {
     "name": "stdout",
     "output_type": "stream",
     "text": [
      "Validation loss: 0.6930969839586931\n",
      "\n",
      "Epoch: 2\n"
     ]
    },
    {
     "name": "stderr",
     "output_type": "stream",
     "text": [
      "Train loss: 0.693135: 100%|██████████| 261375/261375 [00:07<00:00, 35566.56it/s]\n"
     ]
    },
    {
     "name": "stdout",
     "output_type": "stream",
     "text": [
      "Validation loss: 0.6930808269802262\n",
      "\n",
      "Epoch: 3\n"
     ]
    },
    {
     "name": "stderr",
     "output_type": "stream",
     "text": [
      "Train loss: 0.693081: 100%|██████████| 261375/261375 [00:07<00:00, 34419.11it/s]\n"
     ]
    },
    {
     "name": "stdout",
     "output_type": "stream",
     "text": [
      "Validation loss: 0.6929013937711715\n",
      "\n",
      "Epoch: 4\n"
     ]
    },
    {
     "name": "stderr",
     "output_type": "stream",
     "text": [
      "Train loss: 0.693038: 100%|██████████| 261375/261375 [00:07<00:00, 36599.24it/s]\n"
     ]
    },
    {
     "name": "stdout",
     "output_type": "stream",
     "text": [
      "Validation loss: 0.6927148156306323\n",
      "\n",
      "Epoch: 5\n"
     ]
    },
    {
     "name": "stderr",
     "output_type": "stream",
     "text": [
      "Train loss: 0.693724:  66%|██████▌   | 173056/261375 [00:05<00:02, 33726.67it/s]"
     ]
    }
   ],
   "source": [
    "# the same goes for the IAD: either train from scratch\n",
    "\n",
    "iad_scaler = StandardScaler()\n",
    "iad_scaler.fit(iad_clsf_train_set[:, 1:-1])\n",
    "\n",
    "X_train = iad_scaler.transform(iad_clsf_train_set[:, 1:-1])\n",
    "y_train = iad_clsf_train_set[:, -1]\n",
    "X_val = iad_scaler.transform(iad_clsf_val_set[:, 1:-1])\n",
    "y_val = iad_clsf_val_set[:, -1]\n",
    "\n",
    "iad_model_list = []\n",
    "for i in range(10):\n",
    "    _classifier_savedir = f\"./trained_classifiers_idealized-ad_{i}/\"     \n",
    "    iad_model_list.append(NeuralNetworkClassifier(save_path=_classifier_savedir,\n",
    "                                                  n_inputs=X_train.shape[1],\n",
    "                                                  early_stopping=True, epochs=None,\n",
    "                                                  verbose=True))\n",
    "\n",
    "    # We don't want to overwrite the model if it already exists.\n",
    "    if not exists(join(_classifier_savedir, \"CLSF_models\")):\n",
    "        iad_model_list[-1].fit(X_train, y_train, X_val, y_val)\n",
    "    else:\n",
    "        print(f\"The model exists already in {_classifier_savedir}. Remove first if you want to overwrite. Loading its best state now.\")\n",
    "        iad_model_list[-1].load_best_model()"
   ]
  },
  {
   "cell_type": "code",
   "execution_count": null,
   "metadata": {},
   "outputs": [],
   "source": [
    "# or alternatively load existing IAD models\n",
    "\n",
    "iad_scaler = StandardScaler()\n",
    "iad_scaler.fit(iad_clsf_train_set[:, 1:-1])\n",
    "\n",
    "iad_model_list = []\n",
    "for i in range(10):\n",
    "    _classifier_savedir = f\"./trained_classifiers_idealized-ad_{i}/\"     \n",
    "    iad_model_list.append(NeuralNetworkClassifier(save_path=_classifier_savedir,\n",
    "                                                  n_inputs=iad_clsf_train_set[:, 1:-1].shape[1],\n",
    "                                                  load=True))"
   ]
  },
  {
   "cell_type": "code",
   "execution_count": 1,
   "metadata": {},
   "outputs": [
    {
     "ename": "NameError",
     "evalue": "name 'np' is not defined",
     "output_type": "error",
     "traceback": [
      "\u001b[0;31m---------------------------------------------------------------------------\u001b[0m",
      "\u001b[0;31mNameError\u001b[0m                                 Traceback (most recent call last)",
      "Cell \u001b[0;32mIn[1], line 3\u001b[0m\n\u001b[1;32m      1\u001b[0m \u001b[38;5;66;03m# now let's evaluate all models and compute their median ROC and SIC, as well as 68% bands\u001b[39;00m\n\u001b[0;32m----> 3\u001b[0m clsf_test_set \u001b[38;5;241m=\u001b[39m \u001b[43mnp\u001b[49m\u001b[38;5;241m.\u001b[39mvstack([innerdata_test,\n\u001b[1;32m      4\u001b[0m                            innerdata_extrabkg_test,\n\u001b[1;32m      5\u001b[0m                            innerdata_extrasig_test])\n\u001b[1;32m      7\u001b[0m \u001b[38;5;66;03m# we will infeer all ROC and SIC values onto a common TPR grid\u001b[39;00m\n\u001b[1;32m      8\u001b[0m common_tpr \u001b[38;5;241m=\u001b[39m np\u001b[38;5;241m.\u001b[39mlinspace(\u001b[38;5;241m0\u001b[39m, \u001b[38;5;241m1\u001b[39m, \u001b[38;5;241m300\u001b[39m)\n",
      "\u001b[0;31mNameError\u001b[0m: name 'np' is not defined"
     ]
    }
   ],
   "source": [
    "# now let's evaluate all models and compute their median ROC and SIC, as well as 68% bands\n",
    "\n",
    "clsf_test_set = np.vstack([innerdata_test,\n",
    "                           innerdata_extrabkg_test,\n",
    "                           innerdata_extrasig_test])\n",
    "\n",
    "# we will infeer all ROC and SIC values onto a common TPR grid\n",
    "common_tpr = np.linspace(0, 1, 300)\n",
    "\n",
    "X_test_sup = sup_scaler.transform(clsf_test_set[:, 1:-1])\n",
    "y_test_sup = clsf_test_set[:, -1]\n",
    "\n",
    "# first supervised classifiers\n",
    "sup_bkg_rejs = []\n",
    "sup_sics = []\n",
    "for model in sup_model_list:\n",
    "    preds_test = model.predict(X_test_sup)\n",
    "    with np.errstate(divide='ignore', invalid='ignore'):\n",
    "        fpr, tpr, _ = roc_curve(y_test, preds_test)\n",
    "        sup_bkg_rejs.append(np.interp(common_tpr, tpr, 1/fpr))\n",
    "        sup_sics.append(np.interp(common_tpr, tpr, tpr / np.sqrt(fpr)))\n",
    "\n",
    "# then the same with the IAD\n",
    "X_test_iad = iad_scaler.transform(clsf_test_set[:, 1:-1])\n",
    "y_test_iad = clsf_test_set[:, -1]\n",
    "\n",
    "iad_bkg_rejs = []\n",
    "iad_sics = []\n",
    "for model in iad_model_list:\n",
    "    preds_test = model.predict(X_test_iad)\n",
    "    with np.errstate(divide='ignore', invalid='ignore'):\n",
    "        fpr, tpr, _ = roc_curve(y_test, preds_test)\n",
    "        iad_bkg_rejs.append(np.interp(common_tpr, tpr, 1/fpr))\n",
    "        iad_sics.append(np.interp(common_tpr, tpr, tpr / np.sqrt(fpr)))\n",
    "\n",
    "with np.errstate(divide='ignore', invalid='ignore'):\n",
    "    random_bkg_rej = 1 / common_tpr\n",
    "    random_sic = common_tpr / np.sqrt(common_tpr)\n",
    "\n",
    "# ROC curves\n",
    "plt.plot(common_tpr,\n",
    "         np.median(np.stack(sup_bkg_rejs, axis=0), axis=0),\n",
    "         label=\"supervised\")\n",
    "plt.fill_between(common_tpr,\n",
    "                 np.quantile(np.stack(sup_bkg_rejs, axis=0), q=.16, axis=0),\n",
    "                 np.quantile(np.stack(sup_bkg_rejs, axis=0), q=.84, axis=0),\n",
    "                 color=plt.gca().lines[-1].get_color(),\n",
    "                 alpha=0.3)\n",
    "plt.plot(common_tpr,\n",
    "         np.median(np.stack(iad_bkg_rejs, axis=0), axis=0),\n",
    "         label=\"idealized AD\")\n",
    "plt.fill_between(common_tpr,\n",
    "                 np.quantile(np.stack(iad_bkg_rejs, axis=0), q=.16, axis=0),\n",
    "                 np.quantile(np.stack(iad_bkg_rejs, axis=0), q=.84, axis=0),\n",
    "                 color=plt.gca().lines[-1].get_color(),\n",
    "                 alpha=0.3)\n",
    "plt.plot(common_tpr, random_bkg_rej, \"w:\", label=\"random\")\n",
    "plt.xlabel(\"True Positive Rate\")\n",
    "plt.ylabel(\"Background Rejection\")\n",
    "plt.yscale(\"log\")\n",
    "plt.legend(loc=\"upper right\")\n",
    "plt.show()\n",
    "\n",
    "# SIC curves\n",
    "plt.plot(common_tpr,\n",
    "         np.median(np.stack(sup_sics, axis=0), axis=0),\n",
    "         label=\"supervised\")\n",
    "plt.fill_between(common_tpr,\n",
    "                 np.quantile(np.stack(sup_sics, axis=0), q=.16, axis=0),\n",
    "                 np.quantile(np.stack(sup_sics, axis=0), q=.84, axis=0),\n",
    "                 color=plt.gca().lines[-1].get_color(),\n",
    "                 alpha=0.3)\n",
    "plt.plot(common_tpr,\n",
    "         np.median(np.stack(iad_sics, axis=0), axis=0),\n",
    "         label=\"idealized AD\")\n",
    "plt.fill_between(common_tpr,\n",
    "                 np.quantile(np.stack(iad_sics, axis=0), q=.16, axis=0),\n",
    "                 np.quantile(np.stack(iad_sics, axis=0), q=.84, axis=0),\n",
    "                 color=plt.gca().lines[-1].get_color(),\n",
    "                 alpha=0.3)\n",
    "plt.plot(common_tpr, random_sic, \"w:\", label=\"random\")\n",
    "plt.xlabel(\"True Positive Rate\")\n",
    "plt.ylabel(\"Significance Improvement\")\n",
    "plt.legend(loc=\"upper right\")\n",
    "plt.show()"
   ]
  },
  {
   "cell_type": "markdown",
   "metadata": {},
   "source": [
    "We see that the IAD is not as good as the supervised classifier here. For that we would probably need much more training data. Also, one sees that the supervised classifier has almost negligible variance in performance, whereas the IAD varies from run to run more. It makes sense as there is only a small number of signal events in the training data.\n",
    "\n",
    "However, the IAD still performs pretty well and comes increasingly close to a fully supervised model at tight cuts. This is remarkable, as there was no explicit signal information provided to the classifier during the training."
   ]
  }
 ],
 "metadata": {
  "kernelspec": {
   "display_name": "Python 3",
   "language": "python",
   "name": "python3"
  },
  "language_info": {
   "codemirror_mode": {
    "name": "ipython",
    "version": 3
   },
   "file_extension": ".py",
   "mimetype": "text/x-python",
   "name": "python",
   "nbconvert_exporter": "python",
   "pygments_lexer": "ipython3",
   "version": "3.11.9"
  }
 },
 "nbformat": 4,
 "nbformat_minor": 4
}
