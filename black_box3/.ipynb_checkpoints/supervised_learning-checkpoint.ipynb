{
 "cells": [
  {
   "cell_type": "code",
   "execution_count": 1,
   "metadata": {},
   "outputs": [],
   "source": [
    "import os\n",
    "import numpy as np\n",
    "import torch\n",
    "from torch import nn\n",
    "from torch.utils.data import Dataset, DataLoader, TensorDataset, random_split\n",
    "from torchvision import datasets\n",
    "from torchvision.transforms import ToTensor\n",
    "import torch.optim as optim\n",
    "\n",
    "import matplotlib.pyplot as plt\n",
    "from os.path import exists, join, dirname, realpath\n",
    "from sklearn.metrics import roc_curve\n",
    "from sklearn.model_selection import train_test_split\n",
    "from sklearn.pipeline import make_pipeline\n",
    "from sklearn.preprocessing import StandardScaler\n",
    "from sklearn.utils import shuffle\n",
    "from sklearn.utils.class_weight import compute_class_weight\n",
    "from sklearn.metrics import accuracy_score, classification_report"
   ]
  },
  {
   "cell_type": "code",
   "execution_count": 2,
   "metadata": {},
   "outputs": [
    {
     "name": "stdout",
     "output_type": "stream",
     "text": [
      "Bkg shape:(996800, 7)\n",
      "The bkg events look like:\n",
      "[[2705.60592017 2720.9642878  4852.73774424  801.42514537  414.29321743\n",
      "   272.55909701    0.        ]\n",
      " [2298.9472847  2801.84575939 4543.62499288  822.00812181  354.04194358\n",
      "   270.72469607    0.        ]\n",
      " [2983.08753234 3507.93958966 5597.16712371  773.63290216  543.23285415\n",
      "   348.42369394    0.        ]]\n",
      "sig shape:(1200, 7)\n",
      "The sig1 events look like:\n",
      "[[3.61008297e+03 2.82555269e+03 5.38308028e+03 3.66684748e+02\n",
      "  2.09752162e+02 1.52661335e+02 1.00000000e+00]\n",
      " [3.28947789e+03 3.15755434e+03 5.64864873e+03 2.33343315e+02\n",
      "  1.74029604e+02 1.41757335e+02 1.00000000e+00]\n",
      " [3.47207313e+03 4.41642693e+03 7.15768763e+03 7.33244609e+02\n",
      "  5.21569023e+02 4.29274445e+02 1.00000000e+00]]\n",
      "data shape:(998000, 7)\n"
     ]
    }
   ],
   "source": [
    "#This block process all the inputs as numpy arrays and in the end converts it to pytorch tensors. \n",
    "#The same can be done directly using pytorch tensors\n",
    "\n",
    "#give path to the datasets\n",
    "data_path = \"../../data/black_box3/\"\n",
    "\n",
    "#load the data\n",
    "bkg = np.load(os.path.join(data_path, \"bkg.npy\"))  \n",
    "sig1 = np.load(os.path.join(data_path, \"sig1.npy\")) \n",
    "sig =sig1 \n",
    "\n",
    "#indices = np.random.choice(bkg_full.shape[0], 5000, replace=False)\n",
    "#bkg = bkg_full[indices]\n",
    "\n",
    "#creating labels\n",
    "label0 = np.zeros((bkg.shape[0], 1)) \n",
    "label1 = np.ones((sig.shape[0], 1)) \n",
    "\n",
    "#adding them \n",
    "bkg_labeled = np.hstack((bkg, label0))\n",
    "sig_labeled = np.hstack((sig, label1))\n",
    "\n",
    "print(f\"Bkg shape:{bkg_labeled.shape}\")\n",
    "print(f\"The bkg events look like:\\n{bkg_labeled[:3]}\")\n",
    "print(f\"sig shape:{sig_labeled.shape}\")\n",
    "print(f\"The sig1 events look like:\\n{sig_labeled[:3]}\")\n",
    "\n",
    "#combining and shuffling the datasets\n",
    "data = np.vstack([bkg_labeled,sig_labeled])\n",
    "data = shuffle(data, random_state=42)\n",
    "\n",
    "print(f\"data shape:{data.shape}\")"
   ]
  },
  {
   "cell_type": "code",
   "execution_count": 3,
   "metadata": {},
   "outputs": [
    {
     "name": "stdout",
     "output_type": "stream",
     "text": [
      "X_train_np shape:(638720, 6)\n",
      "X_test_np shape:(199600, 6)\n",
      "X_val_np shape:(159680, 6)\n",
      "<class 'torch.Tensor'>\n"
     ]
    }
   ],
   "source": [
    "#seperating the labels\n",
    "X_np = data[:, :-1] \n",
    "y_np = data[:, -1] \n",
    "\n",
    "# Splitting while maintaining class proportions\n",
    "X_trainNval_np, X_test_np, y_trainNval_np, y_test_np = train_test_split(X_np, y_np, test_size=0.2, stratify=y_np, random_state=42)\n",
    "X_train_np, X_val_np, y_train_np, y_val_np = train_test_split(X_trainNval_np, y_trainNval_np, test_size=0.2, stratify=y_trainNval_np, random_state=42)\n",
    "\n",
    "print(f\"X_train_np shape:{X_train_np.shape}\")\n",
    "print(f\"X_test_np shape:{X_test_np.shape}\")\n",
    "print(f\"X_val_np shape:{X_val_np.shape}\")\n",
    "\n",
    "'''\n",
    "def print_class_proportions(y, dataset_name):\n",
    "    unique, counts = np.unique(y, return_counts=True)\n",
    "    proportions = dict(zip(unique, counts))\n",
    "    \n",
    "    print(f\"Class proportions in {dataset_name}:\")\n",
    "    for label, count in proportions.items():\n",
    "        print(f\"Label {int(label)}: {count} samples, Proportion: {count / len(y):.2f}\")\n",
    "\n",
    "# Assuming y_train_np, y_val_np, and y_test_np are your label arrays\n",
    "print_class_proportions(y_train_np, \"X_train_np\")\n",
    "print_class_proportions(y_val_np, \"X_val_np\")\n",
    "print_class_proportions(y_test_np, \"X_test_np\")\n",
    "'''\n",
    "\n",
    "#let's normalize\n",
    "scaler = StandardScaler()\n",
    "\n",
    "#fit and transform\n",
    "X_train_np = scaler.fit_transform(X_train_np)\n",
    "X_val_np = scaler.transform(X_val_np)\n",
    "X_test_np = scaler.transform(X_test_np)\n",
    "\n",
    "#lets convert all np arrays to pytorch tensors\n",
    "X_train = torch.from_numpy(X_train_np).float()\n",
    "y_train = torch.from_numpy(y_train_np).float() \n",
    "X_val = torch.from_numpy(X_val_np).float()\n",
    "y_val = torch.from_numpy(y_val_np).float() \n",
    "X_test = torch.from_numpy(X_test_np).float()\n",
    "y_test = torch.from_numpy(y_test_np).float() \n",
    "\n",
    "#quick check\n",
    "print(type(X_train))"
   ]
  },
  {
   "cell_type": "code",
   "execution_count": 4,
   "metadata": {},
   "outputs": [
    {
     "name": "stdout",
     "output_type": "stream",
     "text": [
      "Using cuda device\n"
     ]
    }
   ],
   "source": [
    "device = (\n",
    "    \"cuda\"\n",
    "    if torch.cuda.is_available()\n",
    "    else \"mps\"\n",
    "    if torch.backends.mps.is_available()\n",
    "    else \"cpu\"\n",
    "    \n",
    ")\n",
    "print(f\"Using {device} device\")"
   ]
  },
  {
   "cell_type": "code",
   "execution_count": 5,
   "metadata": {},
   "outputs": [],
   "source": [
    " #Custom Dataset class\n",
    "class CustomDataset(Dataset):\n",
    "    def __init__(self, features, labels):\n",
    "        self.features = features\n",
    "        self.labels = labels\n",
    "\n",
    "    def __len__(self):\n",
    "        return len(self.labels)\n",
    "\n",
    "    def __getitem__(self, idx):\n",
    "        return self.features[idx], self.labels[idx]\n",
    "        \n",
    "\n",
    "# Creating Dataset instances\n",
    "train_dataset = CustomDataset(X_train, y_train)\n",
    "val_dataset = CustomDataset(X_val, y_val)\n",
    "test_dataset = CustomDataset(X_test, y_test)\n",
    "\n",
    "# Creating the dataloaders\n",
    "batch_size = 64\n",
    "train_loader = DataLoader(dataset=train_dataset, batch_size=batch_size, shuffle=True)\n",
    "val_loader = DataLoader(dataset=val_dataset, batch_size=batch_size, shuffle=False)\n",
    "test_loader = DataLoader(dataset=test_dataset, batch_size=batch_size, shuffle=False)"
   ]
  },
  {
   "cell_type": "code",
   "execution_count": 6,
   "metadata": {},
   "outputs": [
    {
     "name": "stdout",
     "output_type": "stream",
     "text": [
      "basicNN(\n",
      "  (fc1): Linear(in_features=6, out_features=64, bias=True)\n",
      "  (fc2): Linear(in_features=64, out_features=64, bias=True)\n",
      "  (fc3): Linear(in_features=64, out_features=64, bias=True)\n",
      "  (fc4): Linear(in_features=64, out_features=1, bias=True)\n",
      ")\n"
     ]
    }
   ],
   "source": [
    "#Lets define a simple nn calssifier \n",
    "# Defining nn model\n",
    "class basicNN(nn.Module):\n",
    "     def __init__(self, n_inputs=4, layers=[64, 64, 64]):\n",
    "        super(basicNN, self).__init__()\n",
    "        self.fc1 = nn.Linear(n_inputs, layers[0])\n",
    "        self.fc2 = nn.Linear(layers[0], layers[1])\n",
    "        self.fc3 = nn.Linear(layers[1], layers[2])\n",
    "        self.fc4 = nn.Linear(layers[2], 1)          \n",
    "    \n",
    "     def forward(self, x):\n",
    "        x = torch.relu(self.fc1(x))\n",
    "        x = torch.relu(self.fc2(x))\n",
    "        x = torch.relu(self.fc3(x))\n",
    "        x = torch.sigmoid(self.fc4(x))  # For binary classification\n",
    "        return x\n",
    "\n",
    "# Initializing the model with hyperparameters\n",
    "n_inputs = X_train.shape[1]  \n",
    "model = basicNN(n_inputs=n_inputs)\n",
    "\n",
    "# Using Binary Cross-Entropy as the loss function\n",
    "criterion = nn.BCELoss()\n",
    "\n",
    "# Adam optimizer with learning rate from the example\n",
    "optimizer = optim.Adam(model.parameters(), lr=0.0001)\n",
    "\n",
    "# Print the model to confirm it's set up correctly\n",
    "print(model)"
   ]
  },
  {
   "cell_type": "code",
   "execution_count": 20,
   "metadata": {},
   "outputs": [
    {
     "data": {
      "text/plain": [
       "\"\\n# Compute class weights from training labels\\ndef get_class_weights(y):\\n    class_weights = compute_class_weight('balanced', classes=np.unique(y), y=y)\\n    return torch.tensor(class_weights, dtype=torch.float)\\n\\n# Initialize class weights\\nclass_weights = get_class_weights(y_train)  \\nclass_weights = class_weights.to(device) \\n\""
      ]
     },
     "execution_count": 20,
     "metadata": {},
     "output_type": "execute_result"
    }
   ],
   "source": [
    "'''\n",
    "# Compute class weights from training labels\n",
    "def get_class_weights(y):\n",
    "    class_weights = compute_class_weight('balanced', classes=np.unique(y), y=y)\n",
    "    return torch.tensor(class_weights, dtype=torch.float)\n",
    "\n",
    "# Initialize class weights\n",
    "class_weights = get_class_weights(y_train)  \n",
    "class_weights = class_weights.to(device) \n",
    "'''"
   ]
  },
  {
   "cell_type": "code",
   "execution_count": 7,
   "metadata": {},
   "outputs": [
    {
     "name": "stdout",
     "output_type": "stream",
     "text": [
      "\n",
      "Epoch: 0\n"
     ]
    }
   ],
   "source": [
    "# Training the model\n",
    "num_epochs = 10\n",
    "\n",
    "train_losses = []\n",
    "val_losses = []\n",
    "\n",
    "for epoch in range(num_epochs):\n",
    "    model.train()\n",
    "    print('\\nEpoch: {}'.format(epoch))\n",
    "    epoch_train_loss = 0.0\n",
    "    for batch_X, batch_y in train_loader:\n",
    "        #print(f\"batch_X shape: {batch_X.shape}, dtype: {batch_X.dtype}\")\n",
    "        #print(f\"batch_y shape: {batch_y.shape}, dtype: {batch_y.dtype}\")\n",
    "        outputs = model(batch_X).flatten()\n",
    "        loss = criterion(outputs, batch_y)\n",
    "        \n",
    "        optimizer.zero_grad()\n",
    "        loss.backward()\n",
    "        optimizer.step()\n",
    "\n",
    "        # Accumulate training loss in an epoch\n",
    "        epoch_train_loss += loss.item()* batch_X.size(0)\n",
    "    \n",
    "    # Calculate average training loss\n",
    "    avg_train_loss = epoch_train_loss / len(train_loader)\n",
    "    train_losses.append(avg_train_loss)\n",
    "\n",
    "\n",
    "    #loop for Validation\n",
    "    model.eval()\n",
    "    epoch_val_loss = 0.0\n",
    "    val_preds = []\n",
    "    val_targets = []\n",
    "    with torch.no_grad():\n",
    "        for batch_X, batch_y in val_loader:\n",
    "            outputs = model(batch_X).flatten()\n",
    "            predicted = outputs\n",
    "            \n",
    "            # Accumulate validation loss\n",
    "            loss = criterion(outputs, batch_y) \n",
    "            epoch_val_loss += loss.item()* batch_X.size(0)\n",
    "\n",
    "            val_preds.extend(predicted.numpy())\n",
    "            val_targets.extend(batch_y.numpy())\n",
    "    \n",
    "    avg_val_loss = epoch_val_loss / len(val_loader)\n",
    "    val_losses.append(avg_val_loss)\n",
    "    val_accuracy = accuracy_score(val_targets, val_preds)\n",
    "  \n",
    "    print(f'Train loss: {avg_train_loss:.4f}')\n",
    "    print(f'Validation loss: {avg_val_loss:.4f}')\n",
    "    print(f'Validation Accuracy: {val_accuracy:.4f}')"
   ]
  },
  {
   "cell_type": "code",
   "execution_count": 58,
   "metadata": {},
   "outputs": [
    {
     "name": "stdout",
     "output_type": "stream",
     "text": [
      "Test Accuracy: 0.9137\n",
      "              precision    recall  f1-score   support\n",
      "\n",
      "           0       0.95      0.95      0.95      1020\n",
      "           1       0.76      0.75      0.75       220\n",
      "\n",
      "    accuracy                           0.91      1240\n",
      "   macro avg       0.85      0.85      0.85      1240\n",
      "weighted avg       0.91      0.91      0.91      1240\n",
      "\n"
     ]
    }
   ],
   "source": [
    "#Lets test the classifier\n",
    "test_preds = []\n",
    "test_actuals = []\n",
    "\n",
    "# Disable gradient computation (suggested to save memory and speed up memory)\n",
    "with torch.no_grad():\n",
    "    for batch_X, batch_y in test_loader:\n",
    "        # making sure that the test input tensor is float32\n",
    "        batch_X = batch_X.float()\n",
    "        outputs = model(batch_X)\n",
    "        \n",
    "        # Get predictions\n",
    "        _, predicted = torch.max(outputs, 1)\n",
    "        \n",
    "        test_preds.extend(predicted.numpy())\n",
    "        test_actuals.extend(batch_y.numpy())\n",
    "\n",
    "# Calculate accuracy\n",
    "test_accuracy = accuracy_score(test_actuals, test_preds)\n",
    "print(f'Test Accuracy: {test_accuracy:.4f}')\n",
    "\n",
    "# Print classification report\n",
    "print(classification_report(test_actuals, test_preds))\n",
    "\n",
    "#lists to numpy arrays\n",
    "test_preds = np.array(test_preds)\n",
    "test_actuals = np.array(test_actuals)\n"
   ]
  },
  {
   "cell_type": "code",
   "execution_count": 59,
   "metadata": {},
   "outputs": [
    {
     "name": "stdout",
     "output_type": "stream",
     "text": [
      "FPR: [0.   0.05 1.  ]\n",
      "TPR: [0.         0.74545455 1.        ]\n"
     ]
    },
    {
     "name": "stderr",
     "output_type": "stream",
     "text": [
      "/tmp/ipykernel_3370718/1161257193.py:5: RuntimeWarning: divide by zero encountered in divide\n",
      "  bkg_rej = 1 / fpr\n",
      "/tmp/ipykernel_3370718/1161257193.py:7: RuntimeWarning: invalid value encountered in divide\n",
      "  sic = tpr / np.sqrt(fpr)\n",
      "/tmp/ipykernel_3370718/1161257193.py:11: RuntimeWarning: divide by zero encountered in divide\n",
      "  random_bkg_rej = 1 / random_tpr\n",
      "/tmp/ipykernel_3370718/1161257193.py:12: RuntimeWarning: invalid value encountered in divide\n",
      "  random_sic = random_tpr / np.sqrt(random_tpr)\n"
     ]
    },
    {
     "data": {
      "image/png": "[encoded data removed]",
      "text/plain": [
       "<Figure size 640x480 with 1 Axes>"
      ]
     },
     "metadata": {},
     "output_type": "display_data"
    },
    {
     "data": {
      "image/png": "[encoded data removed]",
      "text/plain": [
       "<Figure size 640x480 with 1 Axes>"
      ]
     },
     "metadata": {},
     "output_type": "display_data"
    }
   ],
   "source": [
    "#Lets Plot\n",
    "#ROC Curve\n",
    "fpr, tpr, _ = roc_curve(test_actuals, test_preds)\n",
    "#Background rejection\n",
    "bkg_rej = 1 / fpr \n",
    "#Significance Improvement Curve (SIC)\n",
    "sic = tpr / np.sqrt(fpr)  \n",
    "\n",
    "# Compute random baseline for comparison\n",
    "random_tpr = np.linspace(0, 1, 300)\n",
    "random_bkg_rej = 1 / random_tpr\n",
    "random_sic = random_tpr / np.sqrt(random_tpr)\n",
    "\n",
    "print(f\"FPR: {fpr}\")\n",
    "print(f\"TPR: {tpr}\")\n",
    "\n",
    "\n",
    "#ignore warnings\n",
    "with np.errstate(divide='ignore', invalid='ignore'):\n",
    "    plt.plot(tpr, bkg_rej, label=\"Supervised\")\n",
    "    plt.plot(random_tpr, random_bkg_rej, \"w:\", label=\"Random\")\n",
    "    plt.xlabel(\"True Positive Rate\")\n",
    "    plt.ylabel(\"Background Rejection\")\n",
    "    plt.yscale(\"log\")\n",
    "    plt.legend(loc=\"upper right\")\n",
    "    plt.title(\"ROC Curve with Background Rejection\")\n",
    "    plt.show()\n",
    "\n",
    "    # Plot SIC curve\n",
    "    plt.plot(tpr, sic, label=\"Supervised\")\n",
    "    plt.plot(random_tpr, random_sic, \"w:\", label=\"Random\")\n",
    "    plt.xlabel(\"True Positive Rate\")\n",
    "    plt.ylabel(\"Significance Improvement\")\n",
    "    plt.legend(loc=\"upper right\")\n",
    "    plt.title(\"SIC Curve\")\n",
    "    plt.show()"
   ]
  },
  {
   "cell_type": "code",
   "execution_count": null,
   "metadata": {},
   "outputs": [],
   "source": []
  }
 ],
 "metadata": {
  "kernelspec": {
   "display_name": "Python 3",
   "language": "python",
   "name": "python3"
  },
  "language_info": {
   "codemirror_mode": {
    "name": "ipython",
    "version": 3
   },
   "file_extension": ".py",
   "mimetype": "text/x-python",
   "name": "python",
   "nbconvert_exporter": "python",
   "pygments_lexer": "ipython3",
   "version": "3.11.9"
  }
 },
 "nbformat": 4,
 "nbformat_minor": 2
}
